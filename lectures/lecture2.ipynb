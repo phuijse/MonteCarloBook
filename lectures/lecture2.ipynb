{
 "cells": [
  {
   "cell_type": "code",
   "execution_count": null,
   "metadata": {},
   "outputs": [],
   "source": [
    "%matplotlib notebook\n",
    "import numpy as np\n",
    "import matplotlib.pyplot as plt"
   ]
  },
  {
   "cell_type": "markdown",
   "metadata": {},
   "source": [
    "# Random Walk (Caminata aleatoria)\n",
    "\n",
    "\n",
    "<img src=\"images/drunkards-walk.png\" width=\"500\">\n",
    "\n"
   ]
  },
  {
   "cell_type": "markdown",
   "metadata": {},
   "source": [
    "> Una caminata aleatoria es una secuencia de pasos o movimientos que se escogen aleatoriamente dentro de un cierto espacio\n",
    "\n",
    "## Ejemplo: Caminata 1D\n",
    "\n",
    "Considere por ejemplo el espacio de los enteros en una dimensión\n",
    "\n",
    "<img src=\"images/1d_integer.png\" width=\"500\">\n",
    "\n",
    "\n",
    "- Digamos que inicialmente estamos en la posición $0$\n",
    "- En cada paso lanzamos una moneda\n",
    "- Si sale cara nos movemos a la derecha $+1$, si sale sello nos movemos a la izquierda $-1$\n",
    "- ¿Dónde estoy luego de lanzar $r$ veces la moneda?\n",
    "\n",
    "Podemos definir la posición luego de lanzar $i+1$ veces la moneda como\n",
    "\n",
    "$$\n",
    "p_{i+1} = p_{i} + 2 \\cdot m -1\n",
    "$$\n",
    "\n",
    "donde $m \\in \\{0, 1\\}$ es una variable aleatoria que se distribuye Bernoulli\n",
    "\n",
    "$$\n",
    "m \\sim \\text{Bernoulli}(0.5)\n",
    "$$\n",
    "\n",
    "y estamos asumiendo una moneda \"justa\", es decir con probabilidad $0.5$\n",
    "\n",
    "> Esta distribución define las \"transiciones\" o pasos de mi caminata\n",
    "\n",
    "Más adelante veremos como responder una pregunta como la planteada usando una simulación de Monte Carlo \n",
    "\n",
    "## Aplicaciones de las caminatas aleatorias\n",
    "\n",
    "La caminata aleatoria es un modelo ampliamente usado con aplicaciones en ecología, física, economía, entre otros\n",
    "\n",
    "Algunos ejemplos\n",
    "\n",
    "- [Comportamiento de un animal](https://core.ac.uk/download/pdf/36054338.pdf)\n",
    "- [Movimientos realizados por las particulas de un gas](https://en.wikipedia.org/wiki/Brownian_motion)\n",
    "- [La deriva genética](https://es.wikipedia.org/wiki/Deriva_gen%C3%A9tica)\n",
    "- El precio de las acciones de una firma\n",
    "\n",
    "\n",
    "En la actividad veremos como podemos usarlo en el contexto económico\n",
    "\n",
    "La clave está en el modelamiento de la **probabilidad de transición o paso**"
   ]
  },
  {
   "cell_type": "markdown",
   "metadata": {},
   "source": [
    "## Proceso estocástico y propiedad de Markov\n",
    "\n",
    "Una caminata aleatoria es un tipo particular de **proceso estocástico**. \n",
    "\n",
    "Llamamos proceso estocástico a una colección de variables aleatorias ordenadas como una secuencia\n",
    "\n",
    "Por ejemplo\n",
    "\n",
    "$$\n",
    "\\{X(t): t \\in \\mathbb{R}^+\\}\n",
    "$$\n",
    "\n",
    "es una secuencia de variables aleatorias indexadas en el tiempo o\n",
    "\n",
    "$$\n",
    "\\{X_n: n \\in \\mathbb{Z}\\}\n",
    "$$\n",
    "\n",
    "es una secuencia de variables aleatorias con un índice discreto\n",
    "\n",
    "Una caminata aleatoria es además un caso particular de **proceso Markoviano**\n",
    "\n",
    "La propiedad de Markov dice que el lugar donde estaré en el futuro sólo depende de donde estoy en el presente. No hay dependencia del pasado. Esto se resume matematicamente como:\n",
    "\n",
    "$$\n",
    "P(X_{t+1}|X_{t}, X_{t-1}, \\ldots, X_{1}) = P(X_{t+1}|X_{t})\n",
    "$$"
   ]
  },
  {
   "cell_type": "markdown",
   "metadata": {},
   "source": [
    "## Ejemplo: Caminata 2D\n",
    "\n",
    "Sea un espacio discreto en dos dimensiones y un personaje que parte en la posición $(0, 0)$\n",
    "\n",
    "El personaje puede moverse hacia el Norte, Sur, Este o Oeste\n",
    "\n",
    "La probabilidad de escoger cada una de estas direcciones es $1/4$\n",
    "\n",
    "En promedio ¿A qué distancia del centro estará el personaje luego de $10$, $100$ y $1000$ pasos?\n",
    "\n",
    "Respondamos esta pregunta usando una simulación de Monte Carlo"
   ]
  },
  {
   "cell_type": "code",
   "execution_count": null,
   "metadata": {},
   "outputs": [],
   "source": [
    "fig, ax = plt.subplots(figsize=(4, 4), tight_layout=True)\n",
    "\n",
    "def caminata(r, plot_steps=False):\n",
    "    probs = np.array([1/4, 1/4, 1/4, 1/4])\n",
    "    movimientos = np.array([[0, 1], [1, 0], [-1, 0], [0, -1]])\n",
    "    posicion = np.zeros(shape=(r+1, 2))   \n",
    "    for i in range(1, r+1):\n",
    "        decision = np.random.choice(len(probs), p=probs)\n",
    "        posicion[i] = posicion[i-1] + movimientos[decision, :]\n",
    "        if plot_steps:\n",
    "            ax.cla()\n",
    "            ax.plot(posicion[:i+1, 0], posicion[:i+1, 1])\n",
    "            ax.scatter(posicion[i, 0], posicion[i, 1])\n",
    "            ax.set_title(str(i))\n",
    "            fig.canvas.draw() \n",
    "            plt.pause(0.01) \n",
    "\n",
    "    return posicion\n",
    "\n",
    "pos = caminata(100, plot_steps=True)"
   ]
  },
  {
   "cell_type": "code",
   "execution_count": null,
   "metadata": {},
   "outputs": [],
   "source": [
    "fig, ax = plt.subplots(figsize=(4, 4), tight_layout=True)\n",
    "\n",
    "def distancia(posicion):\n",
    "    return np.sum(np.absolute(posicion[-1, :]))\n",
    "\n",
    "for i in range(10):\n",
    "    borrachin = caminata(1000)\n",
    "    print(i, distancia(borrachin))\n",
    "    ax.plot(borrachin[:, 0], borrachin[:, 1], alpha=0.5)"
   ]
  },
  {
   "cell_type": "code",
   "execution_count": null,
   "metadata": {},
   "outputs": [],
   "source": [
    "Ns = np.logspace(0, 4, 10)\n",
    "stats = np.zeros(shape=(len(Ns), 4))\n",
    "\n",
    "n_pasos = 1000\n",
    "for k, N in enumerate(Ns):\n",
    "    N = int(N)\n",
    "    distancias = np.zeros(shape=(N,))\n",
    "    for i in range(N):\n",
    "        borrachin = caminata(n_pasos)\n",
    "        distancias[i] = distancia(borrachin)\n",
    "    #print(f\"{N} {np.mean(distancias):0.4f} {np.std(distancias):0.4f}\")     \n",
    "    stats[k, 0] = np.mean(distancias)\n",
    "    stats[k, 1] = np.std(distancias)\n",
    "    stats[k, 2] = np.amax(distancias)\n",
    "    stats[k, 3] = np.amin(distancias)\n",
    "    \n",
    "fig, ax = plt.subplots(figsize=(6, 4), tight_layout=True)    \n",
    "ax.plot(Ns, stats[:, 0])\n",
    "ax.fill_between(Ns, stats[:, 0]-stats[:, 1], stats[:, 0]+stats[:, 1], alpha=0.5)\n",
    "ax.plot(Ns, stats[:, 2], 'k--')\n",
    "ax.plot(Ns, stats[:, 3], 'k--')\n",
    "ax.axhline(np.sqrt(n_pasos), c='r', ls='--', alpha=0.5)\n",
    "ax.set_title(str(n_pasos))\n",
    "ax.set_xscale('log')"
   ]
  },
  {
   "cell_type": "markdown",
   "metadata": {},
   "source": [
    "# Jugando a la ruleta (la casa siempre gana)\n",
    "\n",
    "<img src=\"images/roulette.png\" width=\"500\">"
   ]
  },
  {
   "cell_type": "markdown",
   "metadata": {},
   "source": [
    "Sea un casino con una ruleta con 36 casilleros numéricados del 1 al 36\n",
    "\n",
    "Una persona llega con $10.000$ pesos al casino y comienza a jugar ruleta. Su estrategia de juego es siempre apostarle $1.000$ pesos al número $13$. En promedio ¿Cuánto podría ganar esta persona con su particular estrategia?\n",
    "\n",
    "Usemos una simulación de Monte Carlo para resolverlo"
   ]
  },
  {
   "cell_type": "code",
   "execution_count": null,
   "metadata": {},
   "outputs": [],
   "source": [
    "import random\n",
    "\n",
    "class Ruleta():\n",
    "    def __init__(self):\n",
    "        self.casilleros = []\n",
    "        for i in range(1, 37):\n",
    "            self.casilleros.append(i)\n",
    "        self.pelota = None\n",
    "        self.retornos = len(self.casilleros) - 1\n",
    "        #self.casilleros.append('0')\n",
    "        #self.casilleros.append('00')\n",
    "        \n",
    "    def girar(self):\n",
    "        self.pelota = random.choice(self.casilleros)\n",
    "        \n",
    "    def apostar(self, casillero, cantidad):\n",
    "        if str(casillero) == str(self.pelota):\n",
    "            return cantidad*self.retornos\n",
    "        else:\n",
    "            return -cantidad"
   ]
  },
  {
   "cell_type": "code",
   "execution_count": null,
   "metadata": {
    "scrolled": false
   },
   "outputs": [],
   "source": [
    "casino_dreams = Ruleta()  \n",
    "sims = []\n",
    "giros = 100\n",
    "for k in range(10): # Simulaciones\n",
    "    dinero = np.zeros(shape=(giros+1,))\n",
    "    dinero[0] = 10_000    \n",
    "    for i in range(1, giros+1):\n",
    "        casino_dreams.girar()\n",
    "        dinero[i] = dinero[i-1] + casino_dreams.apostar(13, 1_000)\n",
    "    sims.append(dinero)\n",
    "    \n",
    "sims = np.vstack(sims)\n",
    "fig, ax = plt.subplots(figsize=(6, 3), tight_layout=True)\n",
    "for dinero in sims:\n",
    "    ax.plot(dinero - 10_000)\n",
    "ax.plot(np.mean(sims - 10_000  , axis=0), 'k--', lw=2, alpha=0.5)    \n",
    "ax.axhline(0, c='r', ls='--', alpha=0.5, lw=2)\n",
    "ax.set_ylabel('Ganancia')"
   ]
  },
  {
   "cell_type": "markdown",
   "metadata": {},
   "source": [
    "- ¿Cómo evoluciona la ganancia con 100 de giros?\n",
    "- ¿Cómo evoluciona la ganancia con 1.000.000 de giros?\n",
    "- ¿Qué pasa si ahora agregamos los casilleros 0 y 00 a la ruleta?\n",
    "- Varianza y Teorema central del límite\n",
    "- Revise la [falacia del apostador](https://es.wikipedia.org/wiki/Falacia_del_apostador)"
   ]
  },
  {
   "cell_type": "code",
   "execution_count": null,
   "metadata": {},
   "outputs": [],
   "source": []
  }
 ],
 "metadata": {
  "kernelspec": {
   "display_name": "INFO183",
   "language": "python",
   "name": "info183"
  },
  "language_info": {
   "codemirror_mode": {
    "name": "ipython",
    "version": 3
   },
   "file_extension": ".py",
   "mimetype": "text/x-python",
   "name": "python",
   "nbconvert_exporter": "python",
   "pygments_lexer": "ipython3",
   "version": "3.8.5"
  },
  "toc": {
   "base_numbering": 1,
   "nav_menu": {},
   "number_sections": true,
   "sideBar": true,
   "skip_h1_title": false,
   "title_cell": "Table of Contents",
   "title_sidebar": "Contents",
   "toc_cell": false,
   "toc_position": {},
   "toc_section_display": true,
   "toc_window_display": true
  }
 },
 "nbformat": 4,
 "nbformat_minor": 4
}
