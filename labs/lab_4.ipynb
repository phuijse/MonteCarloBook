{
 "cells": [
  {
   "cell_type": "markdown",
   "metadata": {},
   "source": [
    "Nota para el futuro: Separar esto en dos partes. Agregar los diagnósticos de la clase 5"
   ]
  },
  {
   "cell_type": "markdown",
   "metadata": {},
   "source": [
    "# Algoritmo Metropolis Hastings\n",
    "\n",
    "## Problema de la mochila\n",
    "\n",
    "\n",
    "Dado un conjunto de $m$ elementos cada uno descrito por su masa $w_j$ y su valor $v_j$ y una mochila cuyo límite de capacidad es $C$. Asumiendo que el volumen y la forma de los objetos no importan, encuentre el subconjunto de objetos de mayor valor que puede ser llevado en la mochila. Este es un problema de optimización combinatorial NP completo\n",
    "\n",
    "Podemos definir la variable indicadora\n",
    "\n",
    "$$\n",
    "x = (z_1, z_2, \\ldots, z_m)\n",
    "$$\n",
    "\n",
    "donde cada $z_i \\in \\{0, 1\\}$ es igual a 1 si el elemento $i$ está en la mochila y 0 si no lo está\n",
    "\n",
    "Se define entonces un espacio de posibilidades\n",
    "\n",
    "$$\n",
    "\\Omega = \\left \\{x \\in {0, 1}^m : \\sum_{j=1}^m w_j z_j \\leq C \\right \\}\n",
    "$$\n",
    "\n",
    "De donde queremos encontrar aquella que maximiza la utilidad\n",
    "\n",
    "$$\n",
    "U(x) = \\sum_{j=1}^m v_j z_j\n",
    "$$\n",
    "\n",
    "## Solución con Monte Carlo\n",
    "\n",
    "Para resolverlo con Monte Carlo podríamos\n",
    "\n",
    "- Dado $x_t$\n",
    "- Escoger $j \\in [1, ..., m]$ al azar de manera uniforme\n",
    "- Crear $y=(z_1, z_2, ..., 1-z_j,..., z_m)$, si es la mejor solución hasta ahora, guardarla\n",
    "- Si $y$ es factible entonces $x_{t+1} = y$ de lo contrario $x_{t+1} = x_t$\n",
    "\n",
    "Pero esto podría tardar muchisimo para $m$ grande\n",
    "\n",
    "## Actividad: Simulated Annealing\n",
    "\n",
    "Resuelva este problema usando el algoritmo de Simulated Annealing, el cual es una versión del algoritmo de Metropolis donde la distribución de interés se formula a partir de la función de utilidad como\n",
    "\n",
    "$$\n",
    "p(x) = \\frac{1}{Z} \\exp \\left(\\frac{U(x)}{T} \\right) \n",
    "$$\n",
    "\n",
    "donde $T$ es la temperatura y $Z = \\sum_{x\\in \\Omega}  \\exp \\left(\\frac{U(x)}{T} \\right)$ es la evidencia que no depende de $x$\n",
    "\n",
    "- Escriba la taza de aceptación $\\alpha$ y el valor de $r$\n",
    "- Implemente la solución de Monte Carlo \n",
    "- Implemente la solución de Simulated annealing modificando el criterio de aceptación ingenuo por de Metropolis\n",
    "- Para el conjunto de datos $X_1$\n",
    "    - Compare SA con el método de montecarlo clásico ¿Cuánto demora cada uno en llegar a la solución óptima?\n",
    "    - Explore la influencia del parámetro $T$. Muestre y compare resultados con un $T$ grande, adecuado y pequeño decididos por usted. Pruebe con un valor de $T$ adaptivo dado por\n",
    "    $$\n",
    "    T_i = \\frac{1}{\\log(i)}\n",
    "    $$\n",
    "- Para el conjunto de datos $X_2$. Encuentre un valor de $T$ adecuado y muestre la mejor solución obtenida usando SA\n",
    "\n",
    "Referencias:\n",
    "\n",
    "- Láminas 17 a 21: https://cindy.informatik.uni-bremen.de/cosy/teaching/CM_2011/fitting/mcmc.pdf\n",
    "- Láminas 4 a 8: http://sites.science.oregonstate.edu/~kovchegy/web/papers/MCMC.pdf\n",
    "\n"
   ]
  },
  {
   "cell_type": "code",
   "execution_count": null,
   "metadata": {},
   "outputs": [],
   "source": [
    "X1 = {\"m\": 10, \"C\": 2586,\n",
    "      \"v\": [81, 141, 211, 321, 408, 549, 596, 750, 953, 1173], \n",
    "      \"w\": [36, 78, 110, 214, 259, 356, 377, 487, 689, 862]\n",
    "     }\n",
    "\n",
    "X2 = {\"m\": 25, \"C\": 10356,\n",
    "      \"v\": [39, 93, 159, 240, 274, 493, 588, 752, 1025, 1324, 1588, 1826, 1936, 2045, \n",
    "            2287, 2486, 2818, 2850, 3072, 3219, 3499, 3596, 3620, 4067, 4432], \n",
    "      \"w\": [5, 42, 84, 126, 133, 309, 368, 502, 761, 1020, 1283, 1517, 1584, 1656, \n",
    "            1865, 2031, 2320, 2349, 2553, 2667, 2929, 3024, 3047, 3452, 3790]\n",
    "     }"
   ]
  },
  {
   "cell_type": "code",
   "execution_count": null,
   "metadata": {},
   "outputs": [],
   "source": []
  }
 ],
 "metadata": {
  "kernelspec": {
   "display_name": "INFO183",
   "language": "python",
   "name": "info183"
  },
  "language_info": {
   "codemirror_mode": {
    "name": "ipython",
    "version": 3
   },
   "file_extension": ".py",
   "mimetype": "text/x-python",
   "name": "python",
   "nbconvert_exporter": "python",
   "pygments_lexer": "ipython3",
   "version": "3.8.2"
  },
  "toc": {
   "base_numbering": 1,
   "nav_menu": {},
   "number_sections": true,
   "sideBar": true,
   "skip_h1_title": false,
   "title_cell": "Table of Contents",
   "title_sidebar": "Contents",
   "toc_cell": false,
   "toc_position": {},
   "toc_section_display": true,
   "toc_window_display": false
  }
 },
 "nbformat": 4,
 "nbformat_minor": 4
}
