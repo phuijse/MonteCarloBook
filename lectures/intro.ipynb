{
 "cells": [
  {
   "cell_type": "code",
   "execution_count": null,
   "metadata": {},
   "outputs": [],
   "source": [
    "import holoviews as hv\n",
    "hv.extension('bokeh')"
   ]
  },
  {
   "cell_type": "code",
   "execution_count": null,
   "metadata": {},
   "outputs": [],
   "source": [
    "import numpy as np\n",
    "import scipy.stats\n",
    "from IPython.display import YouTubeVideo"
   ]
  },
  {
   "cell_type": "markdown",
   "metadata": {},
   "source": [
    "\n",
    "# Simulación y modelos generativos \n"
   ]
  },
  {
   "cell_type": "markdown",
   "metadata": {},
   "source": [
    "## ¿Qué es y para que sirve simular?\n",
    "\n",
    "\n",
    "### Definiciones de simular\n",
    "\n",
    "- [\"Hacer que algo parezca real no siéndolo\"](https://www.rae.es/dpd/simular)\n",
    "- Del latín [simulâre: \"copiar, representar\"](https://es.wiktionary.org/wiki/simulaci%C3%B3n) o [simulatio \"acción y efecto de imitar algo\"](http://etimologias.dechile.net/?simulacio.n)\n",
    "- Reproducir artificialmente un fenómeno o las relaciones entrada-salida de un sistema\n",
    "\n",
    "\n",
    "Una simulación digital es la aplicación de un modelo computacional para la predicción de eventos físicos o el comportamiento de sistemas de ingeniería"
   ]
  },
  {
   "cell_type": "markdown",
   "metadata": {},
   "source": [
    "<img src=\"images/paradigms.jpg\" width=\"600\">"
   ]
  },
  {
   "cell_type": "markdown",
   "metadata": {},
   "source": [
    "### ¿Por qué simulamos en ingeniería y ciencia?\n",
    "\n",
    "La simulación nos permite explorar nuevas teorías o diseñar nuevos experimentos para probar dichas teorias\n",
    "\n",
    "Usando simulación podemos estudiar fenomenos que son de plano no observables o muy difíciles/caros/peligrosos/imprácticos de observar o medir\n",
    "\n",
    "Usando simulaciones podemos \n",
    "\n",
    "- analizar un sistema antes de haberlo construido\n",
    "- analizar situaciones a las que el sistema aun no ha sido expuesto\n",
    "- realizar predicciones sobre el comportamiento del sistema\n",
    "- analizar la influencia e inter-relaciones entre las variables del sistema y en consecuencia entender mejor su operación. [Ceteris paribus](https://en.wikipedia.org/wiki/Ceteris_paribus)\n",
    "\n",
    "Los simuladores son también ampliamente usados en educación\n",
    "\n",
    "Con el rápido avance y la disminución en costos de la computación, la simulación digital se ha vuelto una herramienta clave en muchas disciplinas (eléctrica, mecánica, química, aeroespacial, nuclear, biomédica, materiales, etc)\n",
    "\n",
    "> [Los principales desafíos de los simuladores están en la validación, verificación y medición de incerteza de los modelos](http://www.mcs-uab.com/docs/NSF.Simluation-Based_Engineering_Science.2006.pdf)\n",
    "\n"
   ]
  },
  {
   "cell_type": "markdown",
   "metadata": {},
   "source": [
    "<img src=\"images/morpho.jpg\" width=\"700\">"
   ]
  },
  {
   "cell_type": "markdown",
   "metadata": {},
   "source": [
    "## ¿Qué son los modelo generativos?\n",
    "\n",
    "\n",
    ":::{epigraph}\n",
    "\n",
    "[What I cannot create, I do not understand](https://jcs.biologists.org/content/joces/130/18/2941.full.pdf)\n",
    "\n",
    "-- Richard Feynman\n",
    "\n",
    ":::\n",
    "\n",
    "\n",
    "\n",
    "Sea un observación descrita por $x$ que viene de una distribución de probabilidad $p^*(x)$. Un modelo generativo es una aproximación \n",
    "\n",
    "$$\n",
    "p_\\theta(x) \\approx p^*(x)\n",
    "$$ \n",
    "\n",
    "con la cual podemos generar nuevos ejemplos aleatorios de $x$. Sea por ejemplo la siguiente muestra de diez datos escalares y continuos"
   ]
  },
  {
   "cell_type": "code",
   "execution_count": null,
   "metadata": {},
   "outputs": [],
   "source": [
    "with open(\"../data/mistery_data.npy\", \"rb\") as f:\n",
    "    data = np.load(f)\n",
    "print(data)"
   ]
  },
  {
   "cell_type": "markdown",
   "metadata": {},
   "source": [
    "Como se vio en la unidad anterior podemos ajustar un modelo probabilístico usando estimación de máxima verosimilitud\n",
    "\n",
    "En este ejemplo seleccionamos una distribución normal y la ajustamos con `scipy.stats`"
   ]
  },
  {
   "cell_type": "code",
   "execution_count": null,
   "metadata": {},
   "outputs": [],
   "source": [
    "# Seleccionamos una distribución\n",
    "dist = scipy.stats.norm \n",
    "\n",
    "# Ajustamos los parámetros con MLE\n",
    "args = dist.fit(data) \n",
    "\n",
    "# Estos son los parámetros ajustados\n",
    "print(args)"
   ]
  },
  {
   "cell_type": "markdown",
   "metadata": {},
   "source": [
    "Luego creamos un modelo con los parámetros ajustados. Al ser un modelo probabilístico podemos generar nuevos datos"
   ]
  },
  {
   "cell_type": "code",
   "execution_count": null,
   "metadata": {},
   "outputs": [],
   "source": [
    "# Crear modelo\n",
    "model = dist(*args) \n",
    "\n",
    "# Generar datos\n",
    "synthetic_data = model.rvs(size=1000) \n",
    "print(synthetic_data[:10])"
   ]
  },
  {
   "cell_type": "markdown",
   "metadata": {
    "scrolled": false
   },
   "source": [
    "**Secreto relevado:** Los datos fueron creados a partir de una distribución normal con media 10 y desviación estándar 4\n",
    "\n",
    "A pesar de tener pocas observaciones el modelo parece haberse ajustado bien, pero ¿Qué hubiera pasado si hubieramos escogido otra distribución para ajustar? ¿Cómo evaluamos si el modelo escogido es adecuado?"
   ]
  },
  {
   "cell_type": "markdown",
   "metadata": {},
   "source": [
    "Pasemos ahora a un ejemplo más complejo, cuyos datos no se distribuyen normal. Ajustemos una distribución normal multivariada y generemos algunos datos ¿Le parecen aceptables?"
   ]
  },
  {
   "cell_type": "code",
   "execution_count": null,
   "metadata": {},
   "outputs": [],
   "source": [
    "with open(\"../data/mnist_data.npy\", \"rb\") as f:\n",
    "    data = np.load(f) \n",
    "    \n",
    "# TODO: USAR EJEMPLOS DE UN SOLO DIGITO\n",
    "    \n",
    "dist = scipy.stats.multivariate_normal \n",
    "mu = np.mean(data.reshape(-1, 28*28), axis=0) # MLE de la media\n",
    "cov = np.cov(data.reshape(-1, 28*28), rowvar=False) # MLE de la covarianza\n",
    "model = dist(mean=mu, cov=cov+0.001*np.eye(28*28)) # Crear modelo\n",
    "new_data = model.rvs(size=10) # Generar datos"
   ]
  },
  {
   "cell_type": "code",
   "execution_count": null,
   "metadata": {
    "tags": [
     "hide-input"
    ]
   },
   "outputs": [],
   "source": [
    "real_list = [hv.Image(sample).opts(width=100, height=100) for sample in data]\n",
    "synt_list = [hv.Image(sample.reshape(28, 28)) for sample in new_data]\n",
    "\n",
    "layout = hv.Layout(real_list + synt_list).cols(10)\n",
    "layout.opts(hv.opts.Image(width=80, height=80, cmap='binary', xaxis=None, yaxis=None))"
   ]
  },
  {
   "cell_type": "markdown",
   "metadata": {},
   "source": [
    "Lamentablemente los ejemplos de la vida real son demasiado complejos para modelarse con distribuciones sencillas\n",
    "\n",
    "Es mucho más conveniente asumir que existe una variable oculta o latente $z$ con una distribución sencilla $p(z)$ que luego se modifica a través de una transformación  $p(x|z)$ para obtener un ejemplo de $x$\n",
    "\n",
    "En ese caso buscamos modelar la evidencia o verosimilitud marginal\n",
    "\n",
    "$$\n",
    "p(x) = \\int_{\\mathcal{z\\in Z}} p(x|z) p(z) \\,dz = \\int_{\\mathcal{z\\in Z}} p(x, z) \\,dz\n",
    "$$\n",
    "\n",
    "Esto además nos permite condicionar el sistema generador con variables que nos interesen\n",
    "\n",
    "> [Los modelos generativos se investigan muy activamente hoy en día](https://openai.com/blog/generative-models)"
   ]
  },
  {
   "cell_type": "markdown",
   "metadata": {},
   "source": [
    "[Ejemplo](https://arxiv.org/abs/1807.03039) de un modelo generativo con variable latente entrenado sobre imágenes de rostros humanos."
   ]
  },
  {
   "cell_type": "code",
   "execution_count": null,
   "metadata": {},
   "outputs": [],
   "source": [
    "YouTubeVideo('exJZOC3ZceA')"
   ]
  },
  {
   "cell_type": "markdown",
   "metadata": {},
   "source": [
    "## Recordatorio del Teorema de Bayes\n",
    "\n",
    "De las propiedades de las probabilidades condicionales y la ley de probabilidades totales podemos escribir\n",
    "\n",
    "$$\n",
    "p(y|x) = \\frac{p(x|y) p(y)}{p(x)} = \\frac{p(x|y) p(y)}{\\int p(x|y) p(y) \\,dy}\n",
    "$$\n",
    "\n",
    "Tipicamente $x$ representa un conjunto de datos que hemos observado a través de un experimento e $y$ algún parámetro que queremos estimar. \n",
    "\n",
    "**Reflexione:** ¿Qué representan $p(y)$ y $p(y|x)$? ¿Cuándo es conveniente usar el teorema de bayes?\n",
    "\n",
    "\n",
    "**Desafio:** La marginalización de la variable latente, el cálculo de la esperanza de una variable continua o el cálculo de la evidencia en el teorema de Bayes requiere resolver integrales que pueden ser muy complicadas\n",
    "\n"
   ]
  },
  {
   "cell_type": "code",
   "execution_count": null,
   "metadata": {},
   "outputs": [],
   "source": []
  }
 ],
 "metadata": {
  "celltoolbar": "Edit Metadata",
  "kernelspec": {
   "display_name": "Python 3",
   "language": "python",
   "name": "python3"
  },
  "language_info": {
   "codemirror_mode": {
    "name": "ipython",
    "version": 3
   },
   "file_extension": ".py",
   "mimetype": "text/x-python",
   "name": "python",
   "nbconvert_exporter": "python",
   "pygments_lexer": "ipython3",
   "version": "3.9.6"
  }
 },
 "nbformat": 4,
 "nbformat_minor": 2
}
