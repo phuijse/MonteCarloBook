{
 "cells": [
  {
   "cell_type": "code",
   "execution_count": null,
   "metadata": {},
   "outputs": [],
   "source": [
    "import holoviews as hv\n",
    "hv.extension('bokeh')\n",
    "hv.opts.defaults(hv.opts.Curve(width=500), \n",
    "                 hv.opts.HLine(alpha=0.5, color='r', line_dash='dashed'))"
   ]
  },
  {
   "cell_type": "code",
   "execution_count": null,
   "metadata": {},
   "outputs": [],
   "source": [
    "import random\n",
    "import numpy as np"
   ]
  },
  {
   "cell_type": "markdown",
   "metadata": {},
   "source": [
    "# Caminata aleatoria (random walk)\n",
    "\n",
    "\n",
    "<img src=\"images/drunkards-walk.png\" width=\"500\">\n",
    "\n"
   ]
  },
  {
   "cell_type": "markdown",
   "metadata": {},
   "source": [
    "## Introducción\n",
    "\n",
    "Una caminata aleatoria es una secuencia de pasos o movimientos que se escogen aleatoriamente dentro de un cierto espacio.\n",
    "\n",
    "Considere por ejemplo el espacio de los enteros en una dimensión\n",
    "\n",
    "<img src=\"images/1d_integer.png\" width=\"500\">\n",
    "\n",
    "1. Digamos que inicialmente estamos en la posición $0$\n",
    "1. En cada paso lanzamos una moneda\n",
    "1. Si sale cara nos movemos a la derecha $+1$, si sale sello nos movemos a la izquierda $-1$\n",
    "1. ¿Dónde estoy luego de lanzar $r$ veces la moneda?\n",
    "\n",
    "Podemos definir la posición luego de lanzar $i+1$ veces la moneda como\n",
    "\n",
    "$$\n",
    "p_{i+1} = p_{i} + 2 \\cdot m -1\n",
    "$$\n",
    "\n",
    "donde $m \\in \\{0, 1\\}$ es una variable aleatoria que se distribuye Bernoulli\n",
    "\n",
    "$$\n",
    "m \\sim \\text{Bernoulli}(0.5)\n",
    "$$\n",
    "\n",
    "y estamos asumiendo una moneda \"justa\", es decir con probabilidad $0.5$\n",
    "\n",
    ":::{important}\n",
    "\n",
    "Esta distribución define las \"transiciones\" o pasos de mi caminata\n",
    "\n",
    ":::\n",
    "\n",
    "Más adelante veremos como responder una pregunta como la planteada utilizando una simulación de Monte Carlo "
   ]
  },
  {
   "cell_type": "markdown",
   "metadata": {},
   "source": [
    "### Aplicaciones de las caminatas aleatorias\n",
    "\n",
    "La caminata aleatoria es un modelo ampliamente utilizando con aplicaciones en ecología, física, economía, entre otros. A continuación algunos ejemplos\n",
    "\n",
    "- [Comportamiento de un animal](https://core.ac.uk/download/pdf/36054338.pdf)\n",
    "- [Movimientos realizados por las particulas de un gas](https://en.wikipedia.org/wiki/Brownian_motion)\n",
    "- [La deriva genética](https://es.wikipedia.org/wiki/Deriva_gen%C3%A9tica)\n",
    "- El precio de las acciones de una firma\n",
    "\n",
    "\n",
    "En la actividad asociada a esta lección veremos como podemos aplicarlo en un contexto económico. \n",
    "\n",
    "La clave de este tipo de modelo está en el modelamiento de la **probabilidad de transición o paso**"
   ]
  },
  {
   "cell_type": "markdown",
   "metadata": {},
   "source": [
    "### Proceso estocástico y propiedad de Markov\n",
    "\n",
    "Una caminata aleatoria es un tipo particular de **proceso estocástico**. Llamamos proceso estocástico a una colección de variables aleatorias ordenadas como una secuencia\n",
    "\n",
    "Por ejemplo\n",
    "\n",
    "$$\n",
    "\\{X(t): t \\in \\mathbb{R}^+\\}\n",
    "$$\n",
    "\n",
    "es una secuencia de variables aleatorias indexadas en el tiempo o\n",
    "\n",
    "$$\n",
    "\\{X_n: n \\in \\mathbb{Z}\\}\n",
    "$$\n",
    "\n",
    "es una secuencia de variables aleatorias con un índice discreto\n",
    "\n",
    "Una caminata aleatoria es además un caso particular de **proceso Markoviano**. La propiedad de Markov dice que el lugar donde estaré en el futuro sólo depende de donde estoy en el presente. No hay dependencia del pasado. Esto se resume matematicamente como:\n",
    "\n",
    "$$\n",
    "P(X_{t+1}|X_{t}, X_{t-1}, \\ldots, X_{1}) = P(X_{t+1}|X_{t})\n",
    "$$\n",
    "\n",
    "En una próxima lección estudiaremos en detalle las **cadenas de Markov**"
   ]
  },
  {
   "cell_type": "markdown",
   "metadata": {},
   "source": [
    "## Ejemplo: Caminata en dos dimensiones\n",
    "\n",
    "Sea un espacio discreto en dos dimensiones y un personaje que parte en la posición $(0, 0)$. \n",
    "\n",
    "- El personaje puede moverse hacia el Norte, Sur, Este o Oeste. \n",
    "- La probabilidad de escoger cada una de estas direcciones es $1/4$\n",
    "\n",
    "En promedio \n",
    "\n",
    "> ¿A qué distancia del centro estará el personaje luego de $10$, $100$ y $1000$ pasos?\n",
    "\n",
    "Respondamos esta pregunta usando una simulación de Monte Carlo. \n",
    "\n",
    "Primero escribimos una función que recibe una cantidad de pasos y retorna una arreglo con las posiciones del personaje en cada instante. La decisión aleatoria de la dirección la tomaremos en usando la función `np.random.choice`"
   ]
  },
  {
   "cell_type": "code",
   "execution_count": null,
   "metadata": {},
   "outputs": [],
   "source": [
    "def caminata_bidimensional(pasos):\n",
    "    probs = np.array([1/4, 1/4, 1/4, 1/4])\n",
    "    direcciones = np.array([[0, 1], [1, 0], [-1, 0], [0, -1]])\n",
    "    posicion = np.zeros(shape=(pasos+1, 2))   \n",
    "    decisiones = np.random.choice(len(probs), size=pasos, p=probs)\n",
    "    desplazamientos = direcciones[decisiones, :]\n",
    "    posicion[1:, :] = np.cumsum(desplazamientos, axis=0)\n",
    "    return posicion"
   ]
  },
  {
   "cell_type": "markdown",
   "metadata": {},
   "source": [
    "La siguiente gráfica muestra el recorrido y destino final del personaje"
   ]
  },
  {
   "cell_type": "code",
   "execution_count": null,
   "metadata": {
    "tags": [
     "hide-input"
    ]
   },
   "outputs": [],
   "source": [
    "np.random.seed(0)\n",
    "pos = caminata_bidimensional(100)\n",
    "p_recorrido = hv.Curve((pos[:, 0], pos[:, 1])).opts(xlim=(-15, 15), ylim=(-15, 15))\n",
    "p_destino = hv.Points((pos[-1, 0], pos[-1, 1])).opts(size=10)\n",
    "hv.Overlay([p_recorrido, p_destino])"
   ]
  },
  {
   "cell_type": "markdown",
   "metadata": {},
   "source": [
    "Respondamos ahora la pregunta usando Montecarlo. Utilizaremos la [distancia de Manhattan](https://es.wikipedia.org/wiki/Geometr%C3%ADa_del_taxista) para medir la distancia al centro del mapa"
   ]
  },
  {
   "cell_type": "code",
   "execution_count": null,
   "metadata": {},
   "outputs": [],
   "source": [
    "def distancia_manhattan(posicion):\n",
    "    return np.sum(np.absolute(posicion[-1, :]))\n",
    "\n",
    "repeticiones = 1000\n",
    "print(\"En promedio...\")\n",
    "for pasos in [10, 100, 1000]:\n",
    "    distancias = np.empty(shape=(repeticiones,))\n",
    "    for i in range(repeticiones):\n",
    "        distancias[i] = distancia_manhattan(caminata_bidimensional(pasos))\n",
    "    print(f\"...luego de {pasos} pasos, el personaje está a {np.mean(distancias)} del centro del mapa\")    "
   ]
  },
  {
   "cell_type": "markdown",
   "metadata": {},
   "source": [
    "¿Cómo cambia el resultado con el número de repeticiones para el caso de 100 pasos?"
   ]
  },
  {
   "cell_type": "code",
   "execution_count": null,
   "metadata": {},
   "outputs": [],
   "source": [
    "Ns = np.logspace(0, 4, 10)\n",
    "stats = np.zeros(shape=(len(Ns), 3))\n",
    "\n",
    "pasos = 100\n",
    "for k, repeticiones in enumerate(Ns):\n",
    "    repeticiones = int(repeticiones)\n",
    "    distancias = np.empty(shape=(repeticiones,))\n",
    "    for i in range(repeticiones):\n",
    "        distancias[i] = distancia_manhattan(caminata_bidimensional(pasos))\n",
    "    stats[k, :] = np.percentile(distancias, (25, 50, 75))   "
   ]
  },
  {
   "cell_type": "markdown",
   "metadata": {},
   "source": [
    "La siguiente gráfica muestra la mediana y el rango intercuartial de las simulaciones a medida que aumentan las repeticiones. La linea roja puntada corresponde a la raíz cuadrada del número de pasos"
   ]
  },
  {
   "cell_type": "code",
   "execution_count": null,
   "metadata": {
    "tags": [
     "hide-input"
    ]
   },
   "outputs": [],
   "source": [
    "p_med = hv.Curve((Ns, stats[:, 1]), 'Repeticiones', 'Distancia al centro', label='Mediana').opts(logx=True)\n",
    "p_iqr = hv.Area((Ns, stats[:, 0], stats[:, 2]), vdims=['y', 'y2'], label='IQR').opts(alpha=0.25)\n",
    "\n",
    "hv.Overlay([p_med, p_iqr, hv.HLine(np.sqrt(pasos))])\n"
   ]
  },
  {
   "cell_type": "markdown",
   "metadata": {},
   "source": [
    "## Actividad formativa: Jugando a la ruleta (la casa siempre gana)\n",
    "\n",
    "<img src=\"images/roulette.png\" width=\"500\">"
   ]
  },
  {
   "cell_type": "markdown",
   "metadata": {},
   "source": [
    "Sea un casino con una ruleta con 36 casilleros numerados del 1 al 36\n",
    "\n",
    "Una persona llega con al casino y comienza a jugar ruleta. Su estrategia de juego es siempre \n",
    "\n",
    "- apostarle $1.000$ pesos a los números pares si el resultado anterior fue impar\n",
    "- apostarle $1.000$ pesos a los números impares si el resultado anterior fue par\n",
    "\n",
    "En promedio:\n",
    "\n",
    "> ¿Cuánto podría ganar/perder esta persona con su particular estrategia?\n",
    "\n",
    "Utilizemos una simulación de Monte Carlo para resolverlo. En primer lugar escribiremos una clase `Ruleta` con los métodos `girar` y `apostar`. Para seleccionar un casillero de forma aleatoria utilizaremos la función `choice` de la librería `random` de Python"
   ]
  },
  {
   "cell_type": "code",
   "execution_count": null,
   "metadata": {},
   "outputs": [],
   "source": [
    "class Ruleta():\n",
    "    def __init__(self):\n",
    "        self.casilleros = []\n",
    "        for i in range(1, 36+1):\n",
    "            self.casilleros.append(i)\n",
    "        \n",
    "    def _girar(self):\n",
    "        return random.choice(self.casilleros)\n",
    "    \n",
    "    def apostar(self, apuestas, cantidad):\n",
    "        bola = self._girar()\n",
    "        if bola in apuestas:\n",
    "            ganancia = 36/len(apuestas)            \n",
    "        else:\n",
    "            ganancia = 0\n",
    "        return cantidad*(ganancia - 1), bola"
   ]
  },
  {
   "cell_type": "markdown",
   "metadata": {},
   "source": [
    "Simulemos 10 sesiones de juego bajo las condiciones anteriores. Las lineas de colores son la ganancia en cada una de las sesiones. La linea negra marca el promedio de las sesiones. "
   ]
  },
  {
   "cell_type": "code",
   "execution_count": null,
   "metadata": {},
   "outputs": [],
   "source": [
    "random.seed(12345)\n",
    "casino_dreams = Ruleta()  \n",
    "simulaciones = []\n",
    "giros = 1000\n",
    "dinero_apuesta = 1_000\n",
    "pares = [x for x in range(2, 37, 2)]\n",
    "impares = [x for x in range(1, 37, 2)]\n",
    "\n",
    "\n",
    "for k in range(10):\n",
    "    retornos = np.zeros(shape=(giros,))\n",
    "    # La primera apuesta es a par\n",
    "    retornos[0], bola = casino_dreams.apostar(pares, dinero_apuesta)\n",
    "    # Las apuestas siguientes dependen del resultado anterior de la ruleta\n",
    "    for i in range(1, giros):\n",
    "        if bola in pares:\n",
    "            retornos[i], bola = casino_dreams.apostar(impares, dinero_apuesta)\n",
    "        else:\n",
    "            retornos[i], bola = casino_dreams.apostar(pares, dinero_apuesta)\n",
    "            \n",
    "    simulaciones.append(np.cumsum(retornos))\n",
    "simulaciones = np.vstack(simulaciones)"
   ]
  },
  {
   "cell_type": "code",
   "execution_count": null,
   "metadata": {
    "tags": [
     "hide-input"
    ]
   },
   "outputs": [],
   "source": [
    "p = []\n",
    "for retornos_acumulados in simulaciones:\n",
    "    p.append(hv.Curve((retornos_acumulados), 'Apuestas', 'Retorno acumulado [$]'))\n",
    "hv.Overlay(p) * hv.HLine(0) * hv.Curve((np.mean(simulaciones, axis=0))).opts(color='k')"
   ]
  },
  {
   "cell_type": "markdown",
   "metadata": {},
   "source": [
    ":::{note}\n",
    "\n",
    "En promedio el retorno está en torno a cero. Al parecer la estrategia no es muy efectiva.\n",
    "\n",
    ":::\n",
    "\n",
    "Una ruleta de casino tiene además dos casilleros de color verde denominados \"0\" y \"00\". Si la bola cae en uno de estos casilleros la casa se lleva todo. ¿Cómo cambia el resultado anterior si agregamos estos casilleros?"
   ]
  },
  {
   "cell_type": "code",
   "execution_count": null,
   "metadata": {},
   "outputs": [],
   "source": [
    "class RuletaRealista(Ruleta):\n",
    "    \n",
    "    def __init__(self):\n",
    "        super().__init__()\n",
    "        self.casilleros.append(0) # Representa el cero\n",
    "        self.casilleros.append(-1) # Represeta el doble cero\n",
    "\n",
    "random.seed(12345)\n",
    "casino_dreams = RuletaRealista()  \n",
    "simulaciones = []\n",
    "giros = 1000\n",
    "dinero_apuesta = 1_000\n",
    "pares = [x for x in range(2, 37, 2)]\n",
    "impares = [x for x in range(1, 37, 2)]\n",
    "\n",
    "for k in range(10):\n",
    "    retornos = np.zeros(shape=(giros,))\n",
    "    # La primera apuesta es a par\n",
    "    retornos[0], bola = casino_dreams.apostar(pares, dinero_apuesta)\n",
    "    # Las apuestas siguientes dependen del resultado anterior de la ruleta\n",
    "    for i in range(1, giros):\n",
    "        if bola in pares:\n",
    "            retornos[i], bola = casino_dreams.apostar(impares, dinero_apuesta)\n",
    "        else:\n",
    "            retornos[i], bola = casino_dreams.apostar(pares, dinero_apuesta)\n",
    "            \n",
    "    simulaciones.append(np.cumsum(retornos))\n",
    "simulaciones = np.vstack(simulaciones)"
   ]
  },
  {
   "cell_type": "code",
   "execution_count": null,
   "metadata": {
    "tags": [
     "hide-input"
    ]
   },
   "outputs": [],
   "source": [
    "p = []\n",
    "for retornos_acumulados in simulaciones:\n",
    "    p.append(hv.Curve((retornos_acumulados), 'Apuestas', 'Retorno acumulado [$]'))\n",
    "hv.Overlay(p) * hv.HLine(0) * hv.Curve((np.mean(simulaciones, axis=0))).opts(color='k')"
   ]
  },
  {
   "cell_type": "markdown",
   "metadata": {},
   "source": [
    ":::{note}\n",
    "\n",
    "El promedio es claramente inferior a cero, con estos nuevos casilleros en promedio \"la casa gana\"\n",
    "\n",
    ":::\n",
    "\n",
    "Reflexione acerca de la estrategia que utilizó el jugador. Luego revise la [falacia del apostador](https://es.wikipedia.org/wiki/Falacia_del_apostador)"
   ]
  }
 ],
 "metadata": {
  "celltoolbar": "Edit Metadata",
  "kernelspec": {
   "display_name": "Python 3",
   "language": "python",
   "name": "python3"
  },
  "language_info": {
   "codemirror_mode": {
    "name": "ipython",
    "version": 3
   },
   "file_extension": ".py",
   "mimetype": "text/x-python",
   "name": "python",
   "nbconvert_exporter": "python",
   "pygments_lexer": "ipython3",
   "version": "3.9.6"
  },
  "toc": {
   "base_numbering": 1,
   "nav_menu": {},
   "number_sections": true,
   "sideBar": true,
   "skip_h1_title": false,
   "title_cell": "Table of Contents",
   "title_sidebar": "Contents",
   "toc_cell": false,
   "toc_position": {},
   "toc_section_display": true,
   "toc_window_display": true
  }
 },
 "nbformat": 4,
 "nbformat_minor": 4
}
