{
 "cells": [
  {
   "cell_type": "markdown",
   "metadata": {},
   "source": [
    "\n",
    "# ¿Qué es y para qué sirve simular?\n"
   ]
  },
  {
   "cell_type": "markdown",
   "metadata": {},
   "source": [
    "\n",
    ":::{admonition} **Definición:** Simular:\n",
    "\n",
    "- [\"Hacer que algo parezca real no siéndolo\"](https://www.rae.es/dpd/simular)\n",
    "- Del latín [simulâre: \"copiar, representar\"](https://es.wiktionary.org/wiki/simulaci%C3%B3n) o [simulatio \"acción y efecto de imitar algo\"](http://etimologias.dechile.net/?simulacio.n)\n",
    "- Reproducir artificialmente un fenómeno o las relaciones entrada-salida de un sistema\n",
    "\n",
    ":::\n",
    "\n",
    "\n",
    "Una simulación digital es la aplicación de un modelo computacional para la predicción de eventos físicos o el comportamiento de sistemas de ingeniería. \n",
    "\n",
    "Hoy en día las simulaciones son un pilar fundamental en ciencia, como muestra la siguiente figura sobre la evolución de los paradigmas científicos."
   ]
  },
  {
   "cell_type": "markdown",
   "metadata": {},
   "source": [
    "<img src=\"images/paradigms.jpg\" width=\"600\">"
   ]
  },
  {
   "cell_type": "markdown",
   "metadata": {},
   "source": [
    "\n",
    ":::{hint}\n",
    "\n",
    "La simulación nos permite explorar nuevas teorías o diseñar nuevos experimentos para probar dichas teorías.\n",
    "\n",
    "Usando simulaciones podemos estudiar fenómenos que son costosos, peligrosos, imprácticos de observar y/o medir.\n",
    "\n",
    ":::\n",
    "\n",
    "En particular usando simulaciones podemos:\n",
    "\n",
    "- analizar un sistema antes de haberlo construido\n",
    "- analizar situaciones a las que el sistema aun no ha sido expuesto\n",
    "- realizar predicciones sobre el comportamiento futuro del sistema\n",
    "\n",
    "\n",
    "Con el rápido avance y la disminución en costos de la computación, la simulación digital se ha vuelto una herramienta clave en muchas disciplinas, e.g. eléctrica, mecánica, química, aeroespacial, nuclear, biomédica, materiales. Los simuladores son también ampliamente usados en educación.\n",
    "\n",
    "> [\"Los principales desafíos de los simuladores están en la validación, verificación y medición de incerteza de los modelos\"](http://www.mcs-uab.com/docs/NSF.Simluation-Based_Engineering_Science.2006.pdf)"
   ]
  },
  {
   "cell_type": "markdown",
   "metadata": {},
   "source": [
    "<img src=\"images/morpho.jpg\" width=\"700\">"
   ]
  }
 ],
 "metadata": {
  "celltoolbar": "Edit Metadata",
  "kernelspec": {
   "display_name": "Python 3 (ipykernel)",
   "language": "python",
   "name": "python3"
  },
  "language_info": {
   "codemirror_mode": {
    "name": "ipython",
    "version": 3
   },
   "file_extension": ".py",
   "mimetype": "text/x-python",
   "name": "python",
   "nbconvert_exporter": "python",
   "pygments_lexer": "ipython3",
   "version": "3.10.4"
  }
 },
 "nbformat": 4,
 "nbformat_minor": 2
}
