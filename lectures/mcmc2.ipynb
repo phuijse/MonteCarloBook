{
 "cells": [
  {
   "cell_type": "code",
   "execution_count": null,
   "metadata": {},
   "outputs": [],
   "source": [
    "import holoviews as hv\n",
    "hv.extension('bokeh')\n",
    "hv.opts.defaults(hv.opts.Curve(width=500), \n",
    "                 hv.opts.Histogram(width=500),\n",
    "                 hv.opts.HLine(alpha=0.5, color='k', line_dash='dashed'))"
   ]
  },
  {
   "cell_type": "code",
   "execution_count": null,
   "metadata": {},
   "outputs": [],
   "source": [
    "import numpy as np\n",
    "import scipy.stats"
   ]
  },
  {
   "cell_type": "markdown",
   "metadata": {},
   "source": [
    "# Calibración y diagnóstico en MCMC\n",
    "\n",
    "En esta lección nos enfocaremos en como diagnósticar un correcto resultado de un algoritmo de tipo MCMC. Para esto revisaremos algunas métricas y criterios ampliamente usados y utilizaremos para calibrar el algoritmo de Metropolis que vimos la lección anterior."
   ]
  },
  {
   "cell_type": "markdown",
   "metadata": {},
   "source": [
    "## Tiempo de mezcla (mixing time)\n",
    "\n",
    "Previamente hemos visto como diseñar una cadena de Markov finita tal que converja a una distribución estacionaria $\\pi$ de nuestro interés. Pero, ¿Cuánto debemos esperar para que ocurra la convergencia? \n",
    "\n",
    "El tiempo de mezcla para una cadena de Markov irreducible y aperiódica se define como\n",
    "\n",
    "$$\n",
    "t_{mix}(\\epsilon) = \\min \\left(n > 0: \\|s(n) - \\pi\\|_{TV} < \\epsilon \\right)\n",
    "$$\n",
    "\n",
    "es decir el mínimo tiempo (número de pasos) tal que estemos a una distancia $\\epsilon$ de la distribución estacionaria $\\pi$.\n",
    "\n",
    "De la ecuación anterior el operador \n",
    "\n",
    "$$\n",
    "\\|p - q\\|_{TV} = \\max_{x\\in\\mathcal{\\Omega}} \\|p(x) - q(x)\\|\n",
    "$$\n",
    "\n",
    "se conoce como la distancia de variación total entre dos distribuciones."
   ]
  },
  {
   "cell_type": "markdown",
   "metadata": {},
   "source": [
    "Se tienen algunas garantías teóricas con respecto al tiempo de mezcla, en particular la siguiente cota superior\n",
    "\n",
    "$$\n",
    "t_{mix}(\\epsilon) < \\log \\left(\\frac{1}{\\epsilon \\sqrt{\\min_j \\pi_j}} \\right) \\frac{1}{1-\\lambda_*} \n",
    "$$\n",
    "\n",
    "donde $\\lambda_*$ es el segundo valor propio más grande de la matriz de transición $P$ de la cadena. \n",
    "\n",
    "La descomposición en valores propios de la matriz de transición de una cadena irreducible y de $\\mathcal{S}$ estados se puede escribir como\n",
    "\n",
    "$$\n",
    "P^n = \\sum_{i=1}^\\mathcal{S} \\alpha_i \\lambda_i^n = \\pi + \\sum_{i=2}^\\mathcal{S} \\alpha_i \\lambda_i^n\n",
    "$$\n",
    "\n",
    "La última igualdad corresponda a una propiedad de la cadena de Markov irreducible: Su valor propio más grande siempre es igual a uno y su vector propio asociado es la distribución estacionaria. \n",
    "\n",
    ":::{important}\n",
    "\n",
    "Todos los demás valores propios se harán eventualmente cero cuando $n \\to \\infty$, siendo el segundo valor propio más grande y distinto de uno el que más se demore\n",
    "\n",
    ":::\n",
    "\n"
   ]
  },
  {
   "cell_type": "markdown",
   "metadata": {},
   "source": [
    "## Autocorrelación en la cadena y número de muestras efectivo\n",
    "\n",
    "Como vimos en la lección anterior el algoritmo MCMC converge asintóticamente a la distribución estacionaria. Pero en la práctica no podemos esperar hasta $n\\to \\infty$\n",
    "\n",
    "> ¿Cómo podemos confirmar si nuestro algoritmo MCMC ha convergido? \n",
    "\n",
    "Por construcción, las muestras de nuestra traza son dependientes, pues $\\theta_{t+1}$ se calcula a partir de $\\theta_t$. \n",
    "\n",
    "Sin embargo, luego de un periódo de *burn-in*, las probabilidades de transición de la cadena debería converger a la distribución estacionaria y volverse independientes del tiempo\n",
    "\n",
    "Es decir que podemos confirmar la convergencia estudiando la autocorrelación de la traza\n",
    "\n",
    "$$\n",
    "\\rho(\\tau) = \\mathbb{E}\\left[(\\theta_t - \\bar \\theta)(\\theta_{t+\\tau}  - \\bar \\theta)\\right]\n",
    "$$\n",
    "\n",
    "La autocorrelación nos indica que tanto las muestras de una serie de tiempo dependen de muestras pasadas. \n",
    "\n",
    "\n",
    "En este caso, al graficar $\\rho$ en función de $\\tau$ buscamos una autocorrelación que converja rapidamente y que luego fluctue en torno a cero\n",
    "\n",
    "<img src=\"images/autocorr.png\" width=\"700\">"
   ]
  },
  {
   "cell_type": "markdown",
   "metadata": {},
   "source": [
    "## Calibrando MCMC en base a la autocorrelación de la traza\n",
    "\n",
    "En la lección pasada vimos que el algoritmo de Metropolis tiene un hiperparámetro  $\\sigma_\\epsilon$ que corresponde a la desviación estándar de la distribución de propuestas.\n",
    "\n",
    ":::{note}\n",
    "\n",
    "Este hiperparámetro repercute fuertemente en la convergencia del algoritmo de Metropolis.\n",
    "\n",
    ":::\n",
    "\n",
    "Para estudiar la convergencia utilizaremos la función de autocorrelación. A continuación se muestra una implementación de la función de autocorrelación en base a `np.correlate`"
   ]
  },
  {
   "cell_type": "code",
   "execution_count": null,
   "metadata": {},
   "outputs": [],
   "source": [
    "def autocorrelation(theta_trace):\n",
    "    thetas_norm = (theta_trace-np.mean(theta_trace))/np.std(theta_trace)\n",
    "    rho = np.correlate(thetas_norm, \n",
    "                       thetas_norm, mode='full')\n",
    "    return rho[len(rho) // 2:]/len(theta_trace)"
   ]
  },
  {
   "cell_type": "markdown",
   "metadata": {},
   "source": [
    "Consideremos el ejemplo mostrado en la lección anterior y estudiamos como cambia la autocorrelación de las trazas para distintos valores de `sigma_eps`"
   ]
  },
  {
   "cell_type": "code",
   "execution_count": null,
   "metadata": {},
   "outputs": [],
   "source": [
    "def metropolis(p, mix_time, sigma_eps=1., random_seed=None):\n",
    "    if random_seed is not None:\n",
    "        np.random.seed(random_seed)\n",
    "    trace_theta = np.zeros(shape=(mix_time, )) # Retorna la traza de theta\n",
    "    trace_theta[0] = np.random.randn() # Theta inicial\n",
    "    qs = scipy.stats.norm(loc=0, scale=sigma_eps).rvs(size=mix_time)\n",
    "    us = scipy.stats.uniform.rvs(size=mix_time)\n",
    "    ar = 0\n",
    "    for n in range(1, mix_time):\n",
    "        theta_star = trace_theta[n-1] + qs[n] # Theta propuesto\n",
    "        r = p(theta_star)/p(trace_theta[n-1])\n",
    "        alpha = np.amin([1., r])\n",
    "        if us[n] < alpha: \n",
    "            trace_theta[n] = theta_star\n",
    "            ar += 1\n",
    "        else:\n",
    "            trace_theta[n] = trace_theta[n-1]\n",
    "    print(f\"Fracción de aceptación: {float(ar)/mix_time}\")\n",
    "    return trace_theta\n",
    "\n",
    "D = np.array([9.37, 10.18, 9.16, 11.60, 10.33])\n",
    "prior = lambda theta : scipy.stats.norm(loc=5, scale=np.sqrt(10)).pdf(theta)\n",
    "likelihood = lambda theta, data : np.prod([scipy.stats.norm(loc=theta, scale=1).pdf(x) for x in data])\n",
    "p = lambda theta, data: likelihood(theta, data)*prior(theta)"
   ]
  },
  {
   "cell_type": "code",
   "execution_count": null,
   "metadata": {},
   "outputs": [],
   "source": [
    "from functools import partial\n",
    "\n",
    "traces = {}\n",
    "\n",
    "for sigma in [0.1, 1., 2., 10.]:\n",
    "    trace = metropolis(partial(p, data=D), mix_time=2000, sigma_eps=sigma)\n",
    "    traces[sigma] = (trace, autocorrelation(trace))"
   ]
  },
  {
   "cell_type": "code",
   "execution_count": null,
   "metadata": {
    "tags": [
     "hide-input"
    ]
   },
   "outputs": [],
   "source": [
    "trace_plots = []\n",
    "for sigma, (trace, rho) in traces.items():\n",
    "    trace_plots.append(hv.Curve((trace), 'Pasos', 'Traza', label=f'sigma_eps={sigma}'))\n",
    "    trace_plots.append(hv.Curve((rho), 'Pasos', 'Autocorrelación', label=f'sigma_eps={sigma}'))\n",
    "hv.Layout(trace_plots).cols(2).opts(hv.opts.Curve(width=300, height=200))"
   ]
  },
  {
   "cell_type": "markdown",
   "metadata": {},
   "source": [
    "De la figura podemos ver que \n",
    "\n",
    "- Si `sigma_eps` es pequeño todos las propuestas son aceptadas, pero la correlación entre ellas es alta porque son poco diversas\n",
    "- Si `sigma_eps` es grande ocurren demasiadas propuestas malas que terminan siendo rechazadas. Esto hace que las propuestas buenas se mantengan inalteradas por largos periódos lo que se traduce en un incremento en la correlación\n",
    "\n",
    "Una figura de mérito muy utilizada que se basa en la función de autocorrelación es el número de muestras efectivas\n",
    "\n",
    "$$\n",
    "n_{eff} = \\frac{N}{1 + 2 \\sum_{\\tau=1}^T \\rho(\\tau)}\n",
    "$$\n",
    "\n",
    "donde $N$ es la cantidad de muestras de la cadena y $T$ es el instante en que la autocorrelación se vuelve por primera vez negativa\n",
    "\n",
    "Idealmente quisieramos que $n_{eff} = N$, pero debido a que las muestras no son independientes en realidad tendremos $n_{eff} < N$\n",
    "\n",
    "Podemos calibrar nuestro algoritmo MCMC tal que maximicemos $n_{eff}$"
   ]
  },
  {
   "cell_type": "code",
   "execution_count": null,
   "metadata": {},
   "outputs": [],
   "source": [
    "def neff(rho):\n",
    "    T = np.where(rho < 0.)[0][0]\n",
    "    return len(rho)/(1 + 2*np.sum(rho[:T]))\n",
    "\n",
    "for sigma, (trace, rho) in traces.items():\n",
    "    print(f\"Para {sigma}, el número de muestras efectivo es {neff(rho):0.4f}\")"
   ]
  },
  {
   "cell_type": "markdown",
   "metadata": {},
   "source": [
    "En este caso `sigma_eps=2.0` alcanza el número máximo de muestras.\n",
    "\n",
    "Otra figura de mérito muy similar a `n_eff` es la fracción de aceptación. La fracción de aceptación es la cantidad de propuestas aceptadas dividido las propuestas totales. La sugerencia de los expertos es calibrar el algoritmo de Metropolis tal que alcance [una fracción de aceptación cercana a 23.4%](https://www.maths.lancs.ac.uk/~sherlocc/Publications/rwm.final.pdf) \n",
    "\n",
    "Si observamos la función `metropolis` veremos que la variable `ar` se utiliza para calcular la fracción de aceptación. Nuevamente es `sigma_eps=2.0` el que está más cercano a la fracción de aceptación óptima."
   ]
  },
  {
   "cell_type": "markdown",
   "metadata": {},
   "source": [
    "## Estadístico Gelman-Rubin\n",
    "\n",
    "Otra forma de estudiar la convergencia es utilizando el estadístico Gelman Rubin, también conocido como $\\hat r$. Para ocuparlo se deben entrenar al menos dos cadenas (de igual largo) para cada configuración de hiperparámetros.\n",
    "\n",
    "El estadístico \n",
    "\n",
    "$$\n",
    "\\hat r = \\frac{N-1}{N} + \\frac{1}{N} \\frac{B}{W}\n",
    "$$\n",
    "\n",
    "donde $N$ es el largo de las cadenas, $B$ es la varianza entre las distintas cadenas y $W$ es el promedio de las varianzas de cada cadena. \n",
    "\n",
    "Notar que el estadístico converge al valor $1$ si $N\\to \\infty$ o $B\\to 0$, es decir si las cadenas son lo suficientemente largas o si las cadenas llegan todos al mismo valor (varianza baja entre ellas)\n",
    "\n",
    "A continuación se muestra una implementación en PythonLa siguiente es una implementación en Python de este estadístico"
   ]
  },
  {
   "cell_type": "code",
   "execution_count": null,
   "metadata": {},
   "outputs": [],
   "source": [
    "def gelman_rubin(traces):\n",
    "    J = len(traces) # Cantidad de trazas\n",
    "    N = len(traces[0]) # Largo de las trazas\n",
    "    chain_mean = np.zeros(shape=(J, ))\n",
    "    chain_var = np.zeros(shape=(J, ))\n",
    "    for i, trace in enumerate(traces):\n",
    "        chain_mean[i] = np.mean(trace)\n",
    "        chain_var[i] = np.sum((trace - chain_mean[i])**2)/(N-1)\n",
    "    total_mean = np.mean(np.concatenate(traces))    \n",
    "    B = np.sum((chain_mean - total_mean)**2)*N/(J-1)\n",
    "    W = np.mean(chain_var)\n",
    "    return (N-1)/N + B/(W*N)"
   ]
  },
  {
   "cell_type": "markdown",
   "metadata": {},
   "source": [
    "Podemos usar este estadístico para monitorear la convergencia de las cadenas. La gráfica siguiente muestra la evolución del estadístico para tres cadenas"
   ]
  },
  {
   "cell_type": "code",
   "execution_count": null,
   "metadata": {
    "tags": [
     "hide-input"
    ]
   },
   "outputs": [],
   "source": [
    "traces = []\n",
    "for i in range(3):\n",
    "    traces.append(metropolis(partial(p, data=D), mix_time=100, sigma_eps=2.0))\n",
    "\n",
    "rhat = []\n",
    "for i in range(2, 100):\n",
    "    short_traces = [trace[:i] for trace in traces]\n",
    "    rhat.append(gelman_rubin(short_traces))"
   ]
  },
  {
   "cell_type": "code",
   "execution_count": null,
   "metadata": {},
   "outputs": [],
   "source": [
    "trace_plot = []\n",
    "for k, trace in enumerate(traces):\n",
    "    trace_plot.append(hv.Curve((trace), 'Pasos', 'Traza', label=f'Traza {k+1}'))\n",
    "              \n",
    "gr_plot = hv.Curve((range(2,100), rhat), 'Pasos', 'Gelman Rubin')\n",
    "hv.Layout([hv.Overlay(trace_plot), \n",
    "           gr_plot * hv.HLine(1)]).cols(2).opts(hv.opts.Curve(width=330, height=300), \n",
    "                                                hv.opts.Overlay(legend_position='top'))"
   ]
  },
  {
   "cell_type": "markdown",
   "metadata": {},
   "source": [
    "## Thinning (adelgazamiento)\n",
    "\n",
    "El \"adelgazamiento\" es una técnica para disminuir la autocorrelación de la traza. Consiste en submuestrear la traza, reteniendo sólo cada $t$ muestras, donde $t$ es el \"intervalo de adelgazamiento\". La idea es escoger este intervalo estudiando la función de autocorrelación\n",
    "\n",
    "Debido a la gran cantidad de muestras que se podrían descartar es preferible ajustar adecuadamente el paso de las propuestas por sobre esta técnica"
   ]
  },
  {
   "cell_type": "markdown",
   "metadata": {},
   "source": [
    "## Material extra\n",
    "\n",
    "La siguiente es una lista de artículos complementarios si desean profundizar en algunos de los tópicos de esta lección\n",
    "\n",
    "- [Valores propios](https://www.cl.cam.ac.uk/teaching/1819/Probablty/materials/Lecture9_handout.pdf) y [cotas en los tiempos de mezcla](https://www.cl.cam.ac.uk/teaching/1920/Probablty/materials/Lecture10.pdf)\n",
    "- [Parallel tempering](https://www.pas.rochester.edu/~sybenzvi/courses/phy403/2016s/p403_18_mcmc.pdf)\n",
    "- [Artículo \"Una introducción conceptual a MCMC\"](https://arxiv.org/pdf/1909.12313.pdf)"
   ]
  },
  {
   "cell_type": "code",
   "execution_count": null,
   "metadata": {},
   "outputs": [],
   "source": []
  }
 ],
 "metadata": {
  "celltoolbar": "Edit Metadata",
  "kernelspec": {
   "display_name": "Python 3",
   "language": "python",
   "name": "python3"
  },
  "language_info": {
   "codemirror_mode": {
    "name": "ipython",
    "version": 3
   },
   "file_extension": ".py",
   "mimetype": "text/x-python",
   "name": "python",
   "nbconvert_exporter": "python",
   "pygments_lexer": "ipython3",
   "version": "3.9.7"
  },
  "toc": {
   "base_numbering": 1,
   "nav_menu": {},
   "number_sections": true,
   "sideBar": true,
   "skip_h1_title": false,
   "title_cell": "Table of Contents",
   "title_sidebar": "Contents",
   "toc_cell": false,
   "toc_position": {},
   "toc_section_display": true,
   "toc_window_display": false
  }
 },
 "nbformat": 4,
 "nbformat_minor": 4
}
