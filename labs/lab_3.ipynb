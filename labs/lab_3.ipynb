{
 "cells": [
  {
   "cell_type": "markdown",
   "metadata": {},
   "source": [
    "# Cadenas de Markov\n",
    "\n",
    "## ¿Qué hay de comer en el casino?\n",
    "\n",
    "Sea el casino del Campus Miraflores con sus apetitosos menues\n",
    "\n",
    "Debido al recorte de presupuesto el casino sólo puede preparar tres tipos de almuerzo\n",
    "\n",
    "1. (S1) Tallarines con salsa bolognesa\n",
    "1. (S2) Porotos con rienda (pero sin longaniza)\n",
    "1. (S3) Arvejas con huevo\n",
    "\n",
    "El postre siempre es jalea (sólo cambia el color)\n",
    "\n",
    "Para que no se note tanto que son solo tres almuerzos el casino decide el almuerzo de cada día siguiendo una regla probabilística en base al menú del día anterior\n",
    "\n",
    "Las reglas del casino son las siguientes\n",
    "\n",
    "1. Si hoy hay tallarines la probabilidad de que mañana hayan (a) tallarines es 0.2, (b) porotos es 0.2 y (c) arvejas es 0.6\n",
    "1. Si hoy hay porotos la probabilidad de que mañana hayan (a) tallarines es 0.6,  y (b) porotos es 0.4\n",
    "1. Si hoy hay arvejas mañana habrán porotos\n",
    "\n",
    "Asumiendo que estas reglas son ciertas y que hoy es Martes y que el menú es tallarines prediga \n",
    "1. El almuerzo más probable para mañana \n",
    "1. El almuerzo más probable para el Jueves\n",
    "1. El almuerzo más probable para el Viernes\n",
    "\n",
    "De forma analítica usando la matriz de transición y mediante una simulación de Monte Carlo\n",
    "\n",
    "- Repita para el caso en que hoy hayan porotos\n",
    "- ¿Cuál es la probabilidad de cada almuerzo a un plazo muy largo?"
   ]
  },
  {
   "cell_type": "markdown",
   "metadata": {},
   "source": []
  }
 ],
 "metadata": {
  "kernelspec": {
   "display_name": "INFO183",
   "language": "python",
   "name": "info183"
  },
  "language_info": {
   "codemirror_mode": {
    "name": "ipython",
    "version": 3
   },
   "file_extension": ".py",
   "mimetype": "text/x-python",
   "name": "python",
   "nbconvert_exporter": "python",
   "pygments_lexer": "ipython3",
   "version": "3.8.5"
  },
  "toc": {
   "base_numbering": 1,
   "nav_menu": {},
   "number_sections": true,
   "sideBar": true,
   "skip_h1_title": false,
   "title_cell": "Table of Contents",
   "title_sidebar": "Contents",
   "toc_cell": false,
   "toc_position": {},
   "toc_section_display": true,
   "toc_window_display": false
  }
 },
 "nbformat": 4,
 "nbformat_minor": 4
}
