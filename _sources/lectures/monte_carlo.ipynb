{
 "cells": [
  {
   "cell_type": "code",
   "execution_count": null,
   "metadata": {},
   "outputs": [],
   "source": [
    "import holoviews as hv\n",
    "hv.extension('bokeh')"
   ]
  },
  {
   "cell_type": "code",
   "execution_count": null,
   "metadata": {},
   "outputs": [],
   "source": [
    "import numpy as np\n",
    "import scipy.stats"
   ]
  },
  {
   "cell_type": "markdown",
   "metadata": {},
   "source": [
    "# Método de Monte Carlo\n",
    "\n",
    "## Introducción\n",
    "\n",
    "Los métodos de Monte Carlo son una clase de métodos para resolver problemas matemáticos **usando muestras aleatorias** (o más bien pseudoaleatorias)\n",
    "\n",
    "Los métodos de Monte Carlo se usan para predecir el comportamiento de un sistema en un escenario incierto (aleatorio). Por ejemplo en la siguiente figura se predice el **valor esperado** del Producto Interno Bruto (PIB, GDP en inglés) per capita a un cierto horizonte de tiempo.\n",
    "\n",
    ":::{note}\n",
    "\n",
    "Note como el método predice una distribución de futuros posibles\n",
    "\n",
    ":::"
   ]
  },
  {
   "cell_type": "markdown",
   "metadata": {},
   "source": [
    "<img src=\"images/montecarlo1.png\" width=\"500\">"
   ]
  },
  {
   "cell_type": "markdown",
   "metadata": {},
   "source": [
    "Los métodos de Monte Carlo también pueden usarse en casos completamente determinísticos. Por ejemplo en el problema de [estimación de iluminación](https://en.wikipedia.org/wiki/Global_illumination), la solución analítica puede resultar infactible de calcular. \n",
    "\n",
    "En lugar de eso se puede aproximar usando una [muestra aleatoria de rayos](https://en.wikipedia.org/wiki/Path_tracing) lanzados desde la fuente de iluminación como muestre la siguiente figura. Si lanzamos \"suficientes\" rayos al azar entonces podemos modelar con bastante exactitud la iluminación real"
   ]
  },
  {
   "cell_type": "markdown",
   "metadata": {},
   "source": [
    "<img src=\"images/montecarlo2.png\" width=\"400\">"
   ]
  },
  {
   "cell_type": "markdown",
   "metadata": {},
   "source": [
    "## Breve historia de los métodos de Monte Carlo\n",
    "\n",
    "En los años 40s [Stanislaw Ulam](https://en.wikipedia.org/wiki/Stanislaw_Ulam), matemático polaco-américano, estaba en cama recuperandose de una enfermedad y pasaba el tiempo jugando solitario. Empezó a interesarse en calcular la probabilidad de ganar el juego de solitario. Trató de desarrollar las combinatorias sin éxito, pues era demasiado complicado.\n",
    "\n",
    "Luego pensó\n",
    "\n",
    "> Supongamos que juego muchas manos, cuento las veces que gano y divido por la cantidad de manos jugadas\n",
    "\n",
    "Sin embargo el había jugado muchas manos sin ganar. Posiblemente le tomaría años hacer este conteo.\n",
    "\n",
    "Ulam pensó entonces en simular el juego usando un computador, por lo que recurrió a [John von Neumann](https://en.wikipedia.org/wiki/John_von_Neumann), quien implementó el algoritmo propuesto por Ulam en el [ENIAC](https://en.wikipedia.org/wiki/ENIAC).\n",
    "\n",
    "Más adelante este algoritmo fue central en las simulaciones realizadas en el [proyecto Manhattan](https://es.wikipedia.org/wiki/Proyecto_Manhattan). En aquel entonces [Nicholas Metropolis](https://en.wikipedia.org/wiki/Nicholas_Metropolis), colega de von Neumann y Ulam sugirió el nombre de Monte Carlo, haciendo alusión al famoso [casino de Monte Carlo](https://es.wikipedia.org/wiki/Casino_de_Montecarlo) que se encuentra en principado de Monaco en Europa.\n"
   ]
  },
  {
   "cell_type": "markdown",
   "metadata": {},
   "source": [
    "## Esquema general  de un método de Monte Carlo\n",
    "\n",
    "El método de Monte Carlo es bastante sencillo y puede resumirse en los tres pasos siguientes. \n",
    "\n",
    "Sea una variable aleatoria $X$ con distribución $f(x)$ y una función $g(x)$\n",
    "\n",
    "1. Se muestrean $N$ valores de la distribución de $X$: $x_i \\sim f(x), i=1,\\ldots, N$\n",
    "1. Se calcula una \"cantidad de interés\" en base a los valores muestreados: $y_i = g(x_i), i=1,\\ldots,N$\n",
    "1. Se reduce el resultando usando estadísticos, por ejemplo el promedio de la variable de salida $\\bar y$ o la desviación estándar de la variable de salida $\\sigma_y$\n",
    "\n",
    "La cantidad de interés (variable de salida) es también una variable aleatoria. Es conveniente que las variables de entrada sigan una distribución sencilla (e.g. uniforme o normal estándar)\n",
    "\n",
    "A continuación veremos una aplicación particular del método de Monte Carlo"
   ]
  },
  {
   "cell_type": "markdown",
   "metadata": {},
   "source": [
    "## Integración por Monte Carlo\n",
    "\n",
    "El valor esperado de una función $g(x)$ se define como\n",
    "\n",
    "$$\n",
    "\\mathbb{E}[g] = \\int g(x) f(x) \\,dx\n",
    "$$\n",
    "\n",
    "donde $f(x)$ es la densidad de probabilidad de $x$.\n",
    "\n",
    "Si la función y/o la integral son muy complicadas de calcular analíticamente podemos en lugar de eso realizar una \"Integración por Monte Carlo\"\n",
    "\n",
    "El algoritmo es\n",
    "\n",
    "1. Muestrar aleatoriamente $N$ valores $x_i \\sim f(x)$\n",
    "1. Evaluar $y_i = g(x_i)$\n",
    "1. aproximar el valor esperado como \n",
    "\n",
    "$$\n",
    "\\mathbb{E}[g]  \\approx \\frac{V}{N} \\sum_{i=1}^N y_i\n",
    "$$\n",
    "\n",
    "donde $V = \\int f(x) \\,dx$ es el volumen de integración.\n",
    "\n",
    "A continuación veremos en acción este método con un ejemplo"
   ]
  },
  {
   "cell_type": "markdown",
   "metadata": {},
   "source": [
    "## Calculando el valor de $\\pi$ usando integración por Monte Carlo\n",
    "\n",
    "El área es la integral de la función en su dominio\n",
    "\n",
    "- La fórmula analítica del área de un cuadrado de lado $a$ es $A_{cuadrado}=a^2$\n",
    "- La fórmula analítica del área de un circulo de radio $a$ es $A_{circulo}=\\pi a^2$\n",
    "\n",
    "Por lo tanto podemos estimar el valor de $\\pi$ como el cociente entre las dos áreas\n",
    "\n",
    "$$\n",
    "\\pi = \\frac{A_{circulo}}{A_{cuadrado}}\n",
    "$$ \n",
    "\n",
    "En este ejemplo estimaremos el área del circulo utilizando integración por Monte Carlo. Para esto generaremos $N$ muestras aleatorias en un cuadrado unitario y luego dividiremos las que están \"adentro del circulo\" por el total."
   ]
  },
  {
   "cell_type": "code",
   "execution_count": null,
   "metadata": {},
   "outputs": [],
   "source": [
    "np.random.seed(12345)\n",
    "\n",
    "def g(x: np.ndarray) -> bool:\n",
    "    \"\"\"\n",
    "    Verificar si la coordenada pertenece o no al círculo\n",
    "    \"\"\"\n",
    "    return (x[:, 0] - 0)**2 + (x[:, 1] - 0)**2 - 1. <= 0.\n",
    "\n",
    "\n",
    "N = 100_000\n",
    "x = np.random.rand(N, 2) # Nota: El volumen de integración es 1\n",
    "\n",
    "print(4*np.sum(g(x))/N) "
   ]
  },
  {
   "cell_type": "markdown",
   "metadata": {},
   "source": [
    "No es exactamente $\\pi$ pero se aproxima bastante\n",
    "\n",
    ":::{note}\n",
    "\n",
    "La multiplicación por cuatro se debe a que estamos considerando un cuarto del circulo.\n",
    "\n",
    ":::\n",
    "\n",
    "La siguiente figura muestra graficamente el área de simulación (cuadrado) y las muestras simuladas (puntos negros). "
   ]
  },
  {
   "cell_type": "code",
   "execution_count": null,
   "metadata": {
    "tags": [
     "hide-input"
    ]
   },
   "outputs": [],
   "source": [
    "x_plot = np.linspace(0, 1, num=1000)\n",
    "X1, X2 = np.meshgrid(x_plot, x_plot)\n",
    "X = np.stack((X1.ravel(), X2.ravel())).T\n",
    "circle = hv.Image((x_plot, x_plot, g(X).reshape(len(x_plot), len(x_plot))), \n",
    "                  kdims=['x[:, 0]', 'x[:, 1]']).opts(cmap='Set1', width=320, height=300)\n",
    "dots = hv.Points((x[:, 0], x[:, 1])).opts(color='k', size=0.1)\n",
    "hv.Overlay([circle, dots])"
   ]
  },
  {
   "cell_type": "markdown",
   "metadata": {},
   "source": [
    "En este momento es interesante preguntar\n",
    "\n",
    "> ¿Cómo cambia el resultado si utilizo más o menos muestras aleatorias?\n",
    "\n",
    "El siguiente gráfico muestra la estimación por Monte Carlo de $\\pi$ en función de $N$ (línea azul). La línea roja tenue marca el valor real de $\\pi$. "
   ]
  },
  {
   "cell_type": "code",
   "execution_count": null,
   "metadata": {},
   "outputs": [],
   "source": [
    "np.random.seed(12345)\n",
    "logN = np.arange(0, 7, step=0.1)\n",
    "pi = np.zeros_like(logN)\n",
    "\n",
    "for i, logn in enumerate(logN):\n",
    "    x = np.random.rand(int(10**logn), 2)\n",
    "    pi[i] = 4.*np.mean(g(x)) "
   ]
  },
  {
   "cell_type": "code",
   "execution_count": null,
   "metadata": {
    "tags": [
     "hide-input"
    ]
   },
   "outputs": [],
   "source": [
    "plot_estimation = hv.Curve((logN, pi), 'logaritmo de N', 'Estimación de PI').opts(width=500)\n",
    "plot_real = hv.HLine(np.pi).opts(alpha=0.25, color='r', line_width=4)\n",
    "(plot_estimation * plot_real)"
   ]
  },
  {
   "cell_type": "markdown",
   "metadata": {},
   "source": [
    "El siguiente gráfica muestra el error absoluto en escala logarítmica en función de $N$"
   ]
  },
  {
   "cell_type": "code",
   "execution_count": null,
   "metadata": {
    "tags": [
     "hide-input"
    ]
   },
   "outputs": [],
   "source": [
    "plot_error = hv.Curve((logN, np.abs(pi-np.pi)), 'logaritmo de N', 'Error absoluto').opts(width=500, logy=True)\n",
    "plot_error"
   ]
  },
  {
   "cell_type": "markdown",
   "metadata": {},
   "source": [
    "De las figuras podemos notar que\n",
    "\n",
    ":::{important}\n",
    "\n",
    "La estimación por Monte Carlo converge al valor real a medida que $N$ aumenta\n",
    "\n",
    ":::\n",
    "\n",
    "¿En qué crees que se sustenta este resultado? En una lección futura lo explicaremos en detalle"
   ]
  },
  {
   "cell_type": "markdown",
   "metadata": {},
   "source": [
    "### Ejercicio formativo: Experimento de lanzar una moneda\n",
    "\n",
    "¿Cuál es la probabilidad de que el próximo lanzamiento sea cara?\n",
    "\n",
    "- Si lancé la moneda una vez y salió cara\n",
    "- Si lancé la moneda dos veces y en ambas salió cara\n",
    "- Si lancé la moneda 100 veces y en todas salió cara\n",
    "- Si lancé la moneda 100 veces y en 52 salió cara y 48 sello\n",
    "\n",
    "¿Cómo es la varianza en cada caso? ¿Qué relación tiene que ver nuestra confianza sobre el resultado?"
   ]
  },
  {
   "cell_type": "code",
   "execution_count": null,
   "metadata": {},
   "outputs": [],
   "source": []
  }
 ],
 "metadata": {
  "celltoolbar": "Edit Metadata",
  "kernelspec": {
   "display_name": "Python 3",
   "language": "python",
   "name": "python3"
  },
  "language_info": {
   "codemirror_mode": {
    "name": "ipython",
    "version": 3
   },
   "file_extension": ".py",
   "mimetype": "text/x-python",
   "name": "python",
   "nbconvert_exporter": "python",
   "pygments_lexer": "ipython3",
   "version": "3.9.6"
  }
 },
 "nbformat": 4,
 "nbformat_minor": 2
}
