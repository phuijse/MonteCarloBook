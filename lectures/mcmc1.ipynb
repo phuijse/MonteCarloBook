{
 "cells": [
  {
   "cell_type": "code",
   "execution_count": null,
   "metadata": {},
   "outputs": [],
   "source": [
    "import holoviews as hv\n",
    "hv.extension('bokeh')\n",
    "hv.opts.defaults(hv.opts.Curve(width=500), \n",
    "                 hv.opts.Histogram(width=500),\n",
    "                 hv.opts.HLine(alpha=0.5, color='k', line_dash='dashed'))"
   ]
  },
  {
   "cell_type": "code",
   "execution_count": null,
   "metadata": {},
   "outputs": [],
   "source": [
    "import numpy as np\n",
    "import scipy.stats"
   ]
  },
  {
   "cell_type": "markdown",
   "metadata": {},
   "source": [
    "# Markov Chain Monte Carlo (MCMC)"
   ]
  },
  {
   "cell_type": "markdown",
   "metadata": {},
   "source": [
    "## Usos principales de las cadenas de Markov\n",
    "\n",
    "Las cadenas de Markov tienen dos usos principales. En primer lugar las cadenas de Markov se ocupan como **modelo o aproximación de fenómenos que evolucionan en el tiempo**. Esto es lo que vimos la lección anterior.\n",
    "\n",
    "En estos casos corresponde hacer la pregunta de si acaso el fenómeno que estoy estudiando cumple con la propiedad de Markov. Por ejemplo ¿Es la evolución del clima un proceso de Markov?\n",
    "\n",
    "En segundo lugar las cadenas de Markov son un **componente fundamental de una clase de algoritmos conocidos como Markov Chain Monte Carlo** (MCMC). El objetivo de MCMC es crear sintéticamente una cadena de Markov que converge a una distribución en la cual estamos interesados y que no podemos simular de forma analítica y/o explícita. MCMC es considerado una revolución en computación científica y tiene aplicaciones en prácticamente todos las disciplinas. \n",
    "\n",
    "En esta lección estudiaremos el algoritmos de Metropolis, una de las formulaciones originales de MCMC y también uno de los [diez algoritmos más importantes del Siglo XX](https://www.andrew.cmu.edu/course/15-355/misc/Top%20Ten%20Algorithms.html). "
   ]
  },
  {
   "cell_type": "markdown",
   "metadata": {},
   "source": [
    "## Monte Carlo y muestreo por importancia (IS)\n",
    "\n",
    "MCMC es una poderosa herramienta para muestrear y calcular valores esperados a partir de distribuciones complejas. En este sentido es una extensión de la idea básica de Monte Carlo que vimos en las primeras lecciones.\n",
    "\n",
    "Recordemos, con Monte Carlo podemos estimar el valor esperado de una función $f(x)$ en base a muestras usando \n",
    "\n",
    "$$\n",
    "\\mathbb{E}_{x\\sim p(x)}[f(X)] \\approx \\frac{1}{N} \\sum_{i=1}^N f(x_i) \\quad x_i \\sim p(x)\n",
    "$$\n",
    "\n",
    "\n",
    "::{warning}\n",
    "\n",
    "El estimador anterior sólo se puedo usar si se puede muestrear directamente de $p(x)$\n",
    "\n",
    ":::\n",
    "\n",
    "Si no puedo muestrear de $p(x)$ pero si puedo evaluarla, se puede recurrir a la técnica de muestreo por importancia (IS) que se define a continuación.\n",
    "\n",
    "Sea una distribución de propuestas o distribución de importancia $q(x)$ de la cual es posible evaluar y además muestrear. En ese caso se puede reescribir la ecuación anterior como sigue\n",
    "\n",
    "$$\n",
    "\\begin{align}\n",
    "\\mathbb{E}_{x\\sim p(x)}[f(X)] &= \\int p(x) f(x) \\,dx = \\int q(x)  \\frac{p(x)}{q(x)} f(x) \\,dx \\nonumber \\\\\n",
    "&= \\mathbb{E}_{x\\sim q(x)}\\left[ \\frac{p(x)}{q(x)} f(X)\\right] \\nonumber \\\\\n",
    "&\\approx \\frac{1}{N} \\sum_{i=1}^N w_i f(x_i) \\quad x_i \\sim q(x) \\nonumber\n",
    "\\end{align}\n",
    "$$\n",
    "\n",
    "donde $w_i = \\frac{p(x)}{q(x)}$ se llama la ponderación de importancia. \n",
    "\n",
    "Una distribución de importancia adecuada no sólo nos permite resolver el problema sino que tiende a presentar una varianza más baja que el estimador original de Monte Carlo. Notar que no es necesario escoger una distribución de importancia que sea igual a la distribución original, pero se debe tener en cuanta que que $q(x)$ debe ser tal que $p(x)=0$ cuando $q(x)=0$ \n"
   ]
  },
  {
   "cell_type": "markdown",
   "metadata": {},
   "source": [
    "### Ejercicio formativo: Muestreo por importancia\n",
    "\n",
    "Sea una linea de teléfono de soporte tecnológico que recibe en promedio 2 llamadas por minuto\n",
    "\n",
    "> ¿Cuál es la probabilidad de que ellos tengan que esperar por lo menos 10 minutos para recibir 9 llamadas?\n",
    "\n",
    "Para modelar el tiempo de espera utilizaremos una distribución gamma"
   ]
  },
  {
   "cell_type": "code",
   "execution_count": null,
   "metadata": {},
   "outputs": [],
   "source": [
    "b = 2. # Eventos promedio por minuto\n",
    "a = 9 # Cantidad de eventos\n",
    "p = scipy.stats.gamma(a, scale=1/b) "
   ]
  },
  {
   "cell_type": "markdown",
   "metadata": {},
   "source": [
    "Luego implementamos la función que queremos estimar"
   ]
  },
  {
   "cell_type": "code",
   "execution_count": null,
   "metadata": {},
   "outputs": [],
   "source": [
    "f = lambda x: x > 10"
   ]
  },
  {
   "cell_type": "markdown",
   "metadata": {},
   "source": [
    "Para IS utilizaremos la siguiente función de propuesta"
   ]
  },
  {
   "cell_type": "code",
   "execution_count": null,
   "metadata": {},
   "outputs": [],
   "source": [
    "q = scipy.stats.norm(scale=10)"
   ]
  },
  {
   "cell_type": "markdown",
   "metadata": {},
   "source": [
    "A continuación simulamos para Monte Carlo e IS usando número de muestras cada vez más grandes e inspeccionamos como evoluciona nuestro estimador del valor esperado de $f(x)$. \n",
    "\n",
    ":::{note}\n",
    "\n",
    "En este caso el problema tiene solución teórica conocida. Veamos como se compara MC e IS al resultado teórico.\n",
    "\n",
    ":::"
   ]
  },
  {
   "cell_type": "code",
   "execution_count": null,
   "metadata": {},
   "outputs": [],
   "source": [
    "# Simulación\n",
    "mc_result, is_result = {}, {}\n",
    "true_result = 1 - p.cdf(10)\n",
    "for N in np.logspace(1, 4, num=100):\n",
    "    # Monte carlo clasico\n",
    "    x = p.rvs(size=int(N))\n",
    "    mc_result[N] = np.mean(f(x))\n",
    "    # Muestreo por importancia\n",
    "    x = q.rvs(size=int(N))\n",
    "    w = p.pdf(x)/q.pdf(x)\n",
    "    is_result[N] = np.mean(w*f(x))"
   ]
  },
  {
   "cell_type": "code",
   "execution_count": null,
   "metadata": {},
   "outputs": [],
   "source": [
    "mc_plot = hv.Curve((list(mc_result.keys()), list(mc_result.values())), \n",
    "                   'Cantidad de muestras', \n",
    "                   'Probabilidad de recibir 10\\n llamadas en 9 minutos', \n",
    "                   label='Monte Carlo').opts(logx=True)\n",
    "is_plot = hv.Curve((list(is_result.keys()), list(is_result.values())), label='Importance Sampling')\n",
    "true_plot = hv.HLine(true_result)\n",
    "hv.Overlay([mc_plot, is_plot, true_plot])"
   ]
  },
  {
   "cell_type": "markdown",
   "metadata": {},
   "source": [
    ":::{note}\n",
    "            \n",
    "El estimador basado en IS converge más rápido y con menos varianza que el estimador basado en Monte Carlo convencional\n",
    "\n",
    ":::"
   ]
  },
  {
   "cell_type": "markdown",
   "metadata": {},
   "source": [
    "### Problemas de IS\n",
    "\n",
    "Las técnicas de muestreo por importancia y muestreo por rechazo permiten calcular valores esperados de distribuciones que puedo evaluar pero no muestrear. También vimos que favorece en la disminución de la varianza del estimador. \n",
    "\n",
    "Pero existen casos más complicados aun, por ejemplo \n",
    "\n",
    "**No puedo muestrear ni evaluar la distribución de interés**\n",
    "\n",
    "Digamos que estamos interesados en la distribución de una variable $\\theta$ condicionada a un conjunto de observaciones $D$, esto corresponde al posterior $p(\\theta|D)$. Sólo en contadas ocasiones este posterior corresponderá a una distribución teórica como las que hemos visto en este curso.\n",
    "\n",
    "Más en general tendremos\n",
    "\n",
    "$$\n",
    "p(\\theta|x) = \\frac{p(x|\\theta) p(\\theta)}{p(x)}\n",
    "$$\n",
    "\n",
    "donde $p(x|\\theta)$ es la verosimilitud, $p(\\theta)$ es el prior y\n",
    "\n",
    "$$\n",
    "p(x) = \\int_\\theta p(x, \\theta) \\,d\\theta\n",
    "$$\n",
    "\n",
    "es la evidencia o verosimilitud marginal que no depende de $\\theta$. Si la dimensionalidad de $\\theta$ es grande la integral será muy difícil o derechamente imposible de calcular analiticamente. \n",
    "\n",
    ":::{note}\n",
    "\n",
    "En este caso sólo podemos evaluar la verosimilitud y el prior, es decir que podemos evaluar una cantidad proporcional al posterior \n",
    "\n",
    "$$\n",
    "p(\\theta|x) \\propto p(x|\\theta) p(\\theta)\n",
    "$$\n",
    "\n",
    ":::\n",
    "\n",
    "**Espacios demasiado grandes**\n",
    "\n",
    "Otro problema de los espacios de alta dimensionalidad es que recorrer ese espacio completo de forma independiente puede ser muy lento o de plano infactible\n",
    "\n",
    ":::{tip}\n",
    "\n",
    "A diferencia de IS, MCMC puede usarse aun cuando existen las dos dificultades anteriormente mencionadas\n",
    "\n",
    ":::\n"
   ]
  },
  {
   "cell_type": "markdown",
   "metadata": {},
   "source": [
    "## Intuición de MCMC\n",
    "\n",
    "En MCMC en lugar de muestrear de manera i.i.d., utilizamos una cadena de Markov que corresponde a la secuencia de pasos que damos en el espacio de alta dimensionalidad. \n",
    "\n",
    "En la siguiente figura la distribución de interés se muestra de color rojo. En la subfigura de la izquierda usamos una distribución de importancia simple (contorno verde). Muchos de los puntos tendrán un ponderador de importancia cercano a cero. \n",
    "\n",
    "<img src=\"images/is_mcmc.png\" width=\"500\">\n",
    "\n",
    "Los métodos de MCMC se basan en \"diseñar\" una cadena de Markov tal que converja a la distribución complicada que nos interesa, como muestra la subfigura de la derecha. \n",
    "\n",
    "Luego sólo tenemos que dejar que la cadena corra \"por un tiempo largo\" para que la convergencia se cumpla y finalmente usar los valores de los estados de la cadena como una representación de la distribución a la cual no tenemos acceso.\n",
    "\n",
    "Glosario MCMC:\n",
    "\n",
    "- La secuencia de valores de los estados de la cadena se llama **trace** (traza)\n",
    "- El tiempo que demora en converger la cadena se llama **mixing time** (tiempo de mezcla)\n",
    "- Es común eliminar de la trasa los primeros estados de la cadena pues no están cerca de la distribución de interés.  Esto se denomina **burn-in** (quema).\n"
   ]
  },
  {
   "cell_type": "markdown",
   "metadata": {},
   "source": [
    "**¿Qué es diseñar una cadena de Markov?**\n",
    "\n",
    "Extendiendo al caso de un estado continuo en lugar de discreto, la distribución estacionaria $\\pi$ debe cumplir\n",
    "\n",
    "$$\n",
    "\\int \\pi(\\theta_t) q(\\theta_{t+1}|\\theta_t) \\,d\\theta_t = \\pi (\\theta_{t+1})\n",
    "$$\n",
    "\n",
    "Luego diseñar la cadena de Markov consiste en encontrar las probabilidades de transición $q(\\theta_{t+1}|\\theta_t)$ dado que conozco $\\pi$.\n",
    "\n",
    ":::{note}\n",
    "\n",
    "Esto es \"al reves\" de lo que hicimos en la lección pasada, que era encontrar $\\pi$ dado que conozco la matriz de transición\n",
    "\n",
    ":::\n",
    "\n",
    "A continuación veremos veremos que no necesitamos conocer \"completamente\" $\\pi$ para lograr esto, basta conocerlo hasta una constante."
   ]
  },
  {
   "cell_type": "markdown",
   "metadata": {},
   "source": [
    "##  Algoritmo de Metropolis\n",
    "\n",
    "El algoritmo de Metropolis fue el primer algoritmo de tipo MCMC. Fue propuesto por Nicholas Metropolis, colega de Ulam y Von Neumann, [en el año 1953 para entender la transición de fase que experimetan los materiales](https://www.semanticscholar.org/paper/Equation-of-state-calculations-by-fast-computing-Metropolis-Rosenbluth/f6a13f116e270dde9d67848495f801cdb8efa25d). El paper original sentó las bases de lo que hoy conocemos como el algoritmo de Metropolis y el algoritmo de Simulated Annealing (SA)\n",
    "\n",
    "El algoritmo de Metropolis utiliza un random walk para definir las probabilidades de transición de la cadena. Sea \n",
    "\n",
    "$$\n",
    "\\theta_{t+1} = \\theta_{t} + \\epsilon\n",
    "$$\n",
    "\n",
    "donde $\\epsilon$ tiene una distribución centrada en cero y simétrica, típicamente una gaussiana \n",
    "\n",
    "$$\n",
    "\\epsilon \\sim \\mathcal{N}(0, I\\sigma_\\epsilon^2),\n",
    "$$\n",
    "\n",
    "donde $\\sigma_\\epsilon$ es hiper parámetro del algoritmo. Por definición tenemos entonces que\n",
    "\n",
    "$$\n",
    "\\theta^* \\sim q(\\theta_{t+1}|\\theta_{t}) = \\mathcal{N}(\\theta_{t}, I \\sigma_\\epsilon^2)\n",
    "$$\n",
    "\n",
    "donde $q$ se denomina **distribución de propuestas** y su objetivo es **proponer** un valor para $\\theta_{t+1}$.\n",
    "\n",
    "Luego el nuevo valor de $\\theta$ se acepta con una tasa definida como\n",
    "\n",
    "$$\n",
    "\\alpha(\\theta^*|\\theta_{t}) = \\min(1, r)\n",
    "$$\n",
    "\n",
    "donde\n",
    "\n",
    "$$\n",
    "r = \\frac{ p(\\theta^*)q(\\theta_{t}|\\theta^*) }{ p(\\theta_t)q(\\theta^*|\\theta_{t})} = \\frac{p(\\theta^*)}{p(\\theta_t)}\n",
    "$$\n",
    "\n",
    "donde la última equivalencia se tiene por la simetría\n",
    "\n",
    "Entonces\n",
    "\n",
    "- Si $\\theta^*$ es mucho mejor que $\\theta_t$ entonces se acepta\n",
    "- Si $\\theta^*$ es mucho peor que $\\theta_t$ entonces se rechaza\n",
    "- En caso de duda se deja al azar\n",
    "\n",
    "Respecto de $\\sigma_\\epsilon$\n",
    "\n",
    "- Si su valor es grande tendremos muchos rechazos\n",
    "- Si su valor es pequeño la difusión será lenta y podrían requerirse muchas iteraciones"
   ]
  },
  {
   "cell_type": "markdown",
   "metadata": {},
   "source": [
    "Juntando lo anterior se tiene que el algoritmo completo es \n",
    "\n",
    "1. Escoger una distribución de propuestas simétrica \n",
    "1. Escoger un valor inicial $\\theta_0$\n",
    "1. Para $n=1,2,\\ldots, N$\n",
    "    1. Muestrear $\\theta^* \\sim q(\\theta_{t+1}|\\theta_{t})$\n",
    "    1. Muestrear $u \\sim U[0, 1]$ \n",
    "    1. Luego si \n",
    "    $$\n",
    "    u < \\alpha(\\theta^*|\\theta_{t}) \n",
    "    $$\n",
    "    entonces\n",
    "    $$\n",
    "    \\theta_{t+1} = \\theta^*\n",
    "    $$\n",
    "    de lo contrario\n",
    "    $$\n",
    "    \\theta_{t+1} = \\theta_{t}\n",
    "    $$\n"
   ]
  },
  {
   "cell_type": "markdown",
   "metadata": {},
   "source": [
    "A continuación se muestra una implementación en Python de este algoritmo. \n",
    "\n",
    "- Se utiliza una normal como distribución de propuestas\n",
    "- Se precalculan los valores de la distribución de propuesta de la variable U para mayor eficiencia\n",
    "- El argumento `p` es una función de Python con una variable (theta)\n",
    "- El argumento `mix_time` define el largo de la traza resultante\n",
    "- El argumento `sigma_eps` es la desviación estándar de la distribución de propuestas"
   ]
  },
  {
   "cell_type": "code",
   "execution_count": null,
   "metadata": {},
   "outputs": [],
   "source": [
    "def metropolis(p, mix_time, sigma_eps=1.): \n",
    "    trace_theta = np.zeros(shape=(mix_time, )) # Retorna la traza de theta\n",
    "    trace_theta[0] = np.random.randn() # Theta inicial\n",
    "    qs = scipy.stats.norm(loc=0, scale=sigma_eps).rvs(size=mix_time)\n",
    "    us = scipy.stats.uniform.rvs(size=mix_time)\n",
    "    for n in range(1, mix_time):\n",
    "        theta_star = trace_theta[n-1] + qs[n] # Theta propuesto\n",
    "        r = p(theta_star)/p(trace_theta[n-1])\n",
    "        alpha = np.amin([1., r])\n",
    "        if us[n] < alpha: \n",
    "            trace_theta[n] = theta_star\n",
    "        else:\n",
    "            trace_theta[n] = trace_theta[n-1]\n",
    "    return trace_theta"
   ]
  },
  {
   "cell_type": "markdown",
   "metadata": {},
   "source": [
    "### Algoritmo de Metropolis-Hastings\n",
    "\n",
    "El algoritmo de Metropolis-Hastings es una generalización del algoritmo de Metropolis para el caso donde la distribución de propuestas ya no es simétrica por lo que $r$ es ahora\n",
    "\n",
    "$$\n",
    "r = \\frac{ p(\\theta^*)q(\\theta_{t}|\\theta^*) }{ p(\\theta_t)q(\\theta^*|\\theta_{t})}\n",
    "$$\n",
    "\n",
    "El algoritmo procede de forma idéntica al caso anterior"
   ]
  },
  {
   "cell_type": "markdown",
   "metadata": {},
   "source": [
    "## MCMC para estimar posteriors\n",
    "\n",
    "Si estamos interesados en un posterior $p(\\theta_t|\\mathcal{D})$ cuya evidencia $p(\\mathcal{D})$ es difícil o imposible de calcular, podemos usar el algoritmo de Metropolis sin problema pues\n",
    "\n",
    "$$\n",
    "r = \\frac{p(\\theta^*|\\mathcal{D})}{p(\\theta_t|\\mathcal{D})} = \\frac{p(\\mathcal{D}|\\theta^*)p(\\theta^*)}{p(\\mathcal{D}|\\theta_t)p(\\theta_t)} \\frac{p(\\mathcal{D})}{p(\\mathcal{D})} = \\frac{p(\\mathcal{D}|\\theta^*)p(\\theta^*)}{p(\\mathcal{D}|\\theta_t)p(\\theta_t)}\n",
    "$$\n",
    "\n",
    "Es decir que basta con conocer la verosimilitud y el prior. Pongamos en práctica esto con un ejemplo\n",
    "\n",
    "Sea un conjunto de muestras con $N=5$\n",
    "\n",
    "$$\n",
    "\\mathcal{D} = \\{ 9.37, 10.18, 9.16, 11.60, 10.33 \\}\n",
    "$$\n",
    "\n",
    "que corresponden a realizaciones i.i.d \n",
    "\n",
    "$$\n",
    "X_1, X_2, \\ldots, X_5|\\theta \\sim \\mathcal{N}(\\theta, \\sigma^2=1)\n",
    "$$\n",
    "\n",
    "donde\n",
    "\n",
    "$$\n",
    "\\theta \\sim \\mathcal{N}(\\mu=5, \\tau^2=10)\n",
    "$$\n",
    "\n",
    "y nos interesa encontrar el posterior $p(\\theta|\\mathcal{D})$. Intentemos simular este posterior con el algoritmo de Metropolis. \n",
    "\n",
    "Primero implementamos la verosimilitud y el prior"
   ]
  },
  {
   "cell_type": "code",
   "execution_count": null,
   "metadata": {},
   "outputs": [],
   "source": [
    "prior = lambda theta : scipy.stats.norm(loc=5, scale=np.sqrt(10)).pdf(theta)\n",
    "likelihood = lambda theta, data : np.prod([scipy.stats.norm(loc=theta, scale=1).pdf(x) for x in data])\n",
    "p = lambda theta, data: likelihood(theta, data)*prior(theta)"
   ]
  },
  {
   "cell_type": "markdown",
   "metadata": {},
   "source": [
    "Luego obtenemos una traza entregandole `p` a la función `metropolis` que implementamos anteriormente. Se queman (descartan) las primeras 100 muestras de la traza"
   ]
  },
  {
   "cell_type": "code",
   "execution_count": null,
   "metadata": {},
   "outputs": [],
   "source": [
    "from functools import partial\n",
    "\n",
    "D = np.array([9.37, 10.18, 9.16, 11.60, 10.33])\n",
    "burn_in = 100\n",
    "theta_trace = metropolis(partial(p, data=D))[burn_in:]\n",
    "edges, bins = np.histogram(theta_trace, bins=20, density=True)"
   ]
  },
  {
   "cell_type": "markdown",
   "metadata": {},
   "source": [
    "La siguiente figura muestra la evolución de la traza (izquierda) y la densidad estimada a partir de la traza (derecha). "
   ]
  },
  {
   "cell_type": "code",
   "execution_count": null,
   "metadata": {},
   "outputs": [],
   "source": [
    "tn2 = (len(D)/1. + 1./10)**(-1)\n",
    "wn = tn2/10.\n",
    "theta_plot = np.linspace(np.amin(theta_trace), np.amax(theta_trace), num=100)\n",
    "theorical_dist = scipy.stats.norm(loc=np.mean(D)*(1-wn)+5*wn, \n",
    "                                  scale=np.sqrt(tn2)).pdf(theta_plot)\n",
    "\n",
    "p_trace = hv.Curve((theta_trace), 'Step', 'Theta')\n",
    "p_true = hv.HLine(np.mean(D)*(1-wn) + 5*wn)\n",
    "p_dist = hv.Histogram((edges, bins), kdims='Theta', label='MCMC').opts(xlim=(8, 12), alpha=0.75, width=250)\n",
    "p_dist_true = hv.Curve((theta_plot, theorical_dist), \n",
    "                       label='Teórica').opts(color='k', line_dash='dashed')\n",
    "((p_trace * p_true) << (p_dist * p_dist_true)).opts(hv.opts.Overlay(legend_position='top'))"
   ]
  },
  {
   "cell_type": "markdown",
   "metadata": {},
   "source": [
    ":::{note}\n",
    "            \n",
    "En este caso (muy particular) el posterior se puede calcular analíticamente como\n",
    "\n",
    "$$\n",
    "p(\\theta|\\mathcal{D}) = \\mathcal{N}\\left ( \\bar x (1- w_N) + \\mu w_N , \\tau_N^2 \\right)\n",
    "$$\n",
    "\n",
    "donde $w_N = \\tau_N^2/\\tau^2$ y $\\tau_N^2 = (N/\\sigma^2 + 1/\\tau^2)^{-1}$\n",
    "\n",
    ":::\n",
    "\n",
    "El posterior analítico se muestra con linea negra punteada en la figura anterior. La solución de MCMC estima con bastante fidelidad la distribución teórica.  \n",
    "\n",
    ":::{warning}\n",
    "\n",
    "Pero ¿Qué pasa en el caso general donde hay un posterior análitco para comparar? ¿Cómo puedo comprobar si la cadena convergió a su estado estacionario y que el posterior obtenido es válido?\n",
    "\n",
    ":::\n",
    "\n",
    "\n",
    "En la próxima lección veremos algunas técnicas para diagnosticar la convergencia de la cadena y también veremos en mayor detalle la influencia de los hiperparámetros del algoritmo de metrópolis"
   ]
  },
  {
   "cell_type": "code",
   "execution_count": null,
   "metadata": {},
   "outputs": [],
   "source": []
  }
 ],
 "metadata": {
  "kernelspec": {
   "display_name": "Python 3",
   "language": "python",
   "name": "python3"
  },
  "language_info": {
   "codemirror_mode": {
    "name": "ipython",
    "version": 3
   },
   "file_extension": ".py",
   "mimetype": "text/x-python",
   "name": "python",
   "nbconvert_exporter": "python",
   "pygments_lexer": "ipython3",
   "version": "3.9.7"
  },
  "toc": {
   "base_numbering": 1,
   "nav_menu": {},
   "number_sections": true,
   "sideBar": true,
   "skip_h1_title": false,
   "title_cell": "Table of Contents",
   "title_sidebar": "Contents",
   "toc_cell": false,
   "toc_position": {
    "height": "calc(100% - 180px)",
    "left": "10px",
    "top": "150px",
    "width": "294.4px"
   },
   "toc_section_display": true,
   "toc_window_display": true
  }
 },
 "nbformat": 4,
 "nbformat_minor": 2
}
